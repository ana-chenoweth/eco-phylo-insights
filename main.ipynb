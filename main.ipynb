{
 "cells": [
  {
   "cell_type": "code",
   "execution_count": 5,
   "id": "5f9ee3d6",
   "metadata": {},
   "outputs": [],
   "source": [
    "from Bio import SeqIO\n",
    "from io import StringIO\n",
    "from Bio import AlignIO\n",
    "from Bio import Phylo\n",
    "from Bio.Phylo.TreeConstruction import DistanceCalculator, DistanceTreeConstructor\n",
    "from Bio.Align.Applications import MuscleCommandline\n",
    "import subprocess"
   ]
  },
  {
   "cell_type": "markdown",
   "id": "32cfa50f",
   "metadata": {},
   "source": [
    "## Making the sequences"
   ]
  },
  {
   "cell_type": "markdown",
   "id": "3a70b393",
   "metadata": {},
   "source": [
    "#### Turtles"
   ]
  },
  {
   "cell_type": "code",
   "execution_count": 6,
   "id": "a2ec7e49",
   "metadata": {},
   "outputs": [],
   "source": [
    "#Reading the sequences from FASTA files\n",
    "t1 = SeqIO.read(\"sequences/sequence_turtle1.fasta\", \"fasta\")\n",
    "t2 = SeqIO.read(\"sequences/sequence_turtle2.fasta\", \"fasta\")\n",
    "t3 = SeqIO.read(\"sequences/sequence_turtle3.fasta\", \"fasta\")\n",
    "t4 = SeqIO.read(\"sequences/sequence_turtle4.fasta\", \"fasta\")\n",
    "\n",
    "#Putting an id\n",
    "t1.id = 'TGreen turtle'\n",
    "t2.id = 'TDummy turtle'\n",
    "t3.id = 'Tsmall turtle'\n",
    "t4.id = 'TGreek trutle'\n",
    "\n",
    "#Put them into one file of all the turtles\n",
    "turtles = SeqIO.write([t1,t2,t3,t4], \"sequences/turtles.fasta\", \"fasta\")"
   ]
  },
  {
   "cell_type": "markdown",
   "id": "2e623c8c",
   "metadata": {},
   "source": [
    "#### Lizards"
   ]
  },
  {
   "cell_type": "code",
   "execution_count": 7,
   "id": "173479f8",
   "metadata": {},
   "outputs": [],
   "source": [
    "#Reading the sequences from FASTA files\n",
    "l1 = SeqIO.read(\"sequences/sequence_lizard1.fasta\", \"fasta\")\n",
    "l2 = SeqIO.read(\"sequences/sequence_lizard2.fasta\", \"fasta\")\n",
    "l3 = SeqIO.read(\"sequences/sequence_lizard3.fasta\", \"fasta\")\n",
    "l4 = SeqIO.read(\"sequences/sequence_lizard4.fasta\", \"fasta\")\n",
    "\n",
    "#Putting an id\n",
    "l1.id = 'LOccidental lizard'\n",
    "l2.id = 'LKomodo lizard'\n",
    "l3.id = 'LBearded lizard'\n",
    "l4.id = 'LAnolis lizard'\n",
    "\n",
    "#Put them into one file of all the lizards\n",
    "lizards = SeqIO.write([l1,l2,l3,l4], \"sequences/lizards.fasta\", \"fasta\")"
   ]
  },
  {
   "cell_type": "markdown",
   "id": "b4a40f3e",
   "metadata": {},
   "source": [
    "#### Cocodriles"
   ]
  },
  {
   "cell_type": "code",
   "execution_count": 8,
   "id": "de8cd276",
   "metadata": {},
   "outputs": [],
   "source": [
    "#Reading the sequences from FASTA files\n",
    "c1 = SeqIO.read(\"sequences/sequence_cocodrile1.fasta\", \"fasta\")\n",
    "c2 = SeqIO.read(\"sequences/sequence_cocodrile2.fasta\", \"fasta\")\n",
    "c3 = SeqIO.read(\"sequences/sequence_cocodrile3.fasta\", \"fasta\")\n",
    "c4 = SeqIO.read(\"sequences/sequence_cocodrile4.fasta\", \"fasta\")\n",
    "\n",
    "#Putting an id\n",
    "c1.id = 'CNile cocodrile'\n",
    "c2.id = 'CMisissipi Alligator'\n",
    "c3.id = 'CTiny cocodrile'\n",
    "c4.id = 'CAfrican cocodrile'\n",
    "\n",
    "#Put them into one file of all the cocodriles\n",
    "cocrodiles = SeqIO.write([c1,c2,c3,c4], \"sequences/cocodriles.fasta\", \"fasta\")"
   ]
  },
  {
   "cell_type": "markdown",
   "id": "77ccc49c",
   "metadata": {},
   "source": [
    "#### Birds"
   ]
  },
  {
   "cell_type": "code",
   "execution_count": 9,
   "id": "d12cfb0f",
   "metadata": {},
   "outputs": [],
   "source": [
    "#Reading the sequences from FASTA files\n",
    "b1 = SeqIO.read(\"sequences/sequence_bird1.fasta\", \"fasta\")\n",
    "b2 = SeqIO.read(\"sequences/sequence_bird2.fasta\", \"fasta\")\n",
    "b3 = SeqIO.read(\"sequences/sequence_bird3.fasta\", \"fasta\")\n",
    "b4 = SeqIO.read(\"sequences/sequence_bird4.fasta\", \"fasta\")\n",
    "\n",
    "#Putting an id\n",
    "b1.id = 'BRooster bird'\n",
    "b2.id = 'BZebra bird'\n",
    "b3.id = 'BPigeon bird'\n",
    "b4.id = 'BOstrich'\n",
    "\n",
    "#Put them into one file of all the cocodriles\n",
    "birds = SeqIO.write([b1,b2,b3,b4], \"sequences/birds.fasta\", \"fasta\")"
   ]
  },
  {
   "cell_type": "code",
   "execution_count": 10,
   "id": "2288953f",
   "metadata": {},
   "outputs": [
    {
     "data": {
      "text/plain": [
       "16"
      ]
     },
     "execution_count": 10,
     "metadata": {},
     "output_type": "execute_result"
    }
   ],
   "source": [
    "#Putting all the sequences of all the animals in one\n",
    "all_sequences = list(SeqIO.parse(\"sequences/turtles.fasta\", \"fasta\")) + \\\n",
    "                list(SeqIO.parse(\"sequences/lizards.fasta\", \"fasta\")) + \\\n",
    "                list(SeqIO.parse(\"sequences/cocodriles.fasta\", \"fasta\")) + \\\n",
    "                list(SeqIO.parse(\"sequences/birds.fasta\", \"fasta\"))\n",
    "\n",
    "SeqIO.write(all_sequences, \"sequences/all_sequences.fasta\", \"fasta\")"
   ]
  },
  {
   "cell_type": "markdown",
   "id": "1d360c8a",
   "metadata": {},
   "source": [
    "## Alignning sequences"
   ]
  },
  {
   "cell_type": "markdown",
   "id": "cfd65a0b",
   "metadata": {},
   "source": [
    "### All animals"
   ]
  },
  {
   "cell_type": "code",
   "execution_count": 11,
   "id": "902d28c2",
   "metadata": {},
   "outputs": [
    {
     "name": "stdout",
     "output_type": "stream",
     "text": [
      "Alignment with 16 rows and 18954 columns\n",
      "--------------------------------------------...--- TGreen\n",
      "--------------------------------------------...--- TDummy\n",
      "--------------------------------------------...--- Tsmall\n",
      "--------------------------------------------...--- TGreek\n",
      "--------------------------------------------...--- LOccidental\n",
      "--------------------------------------------...--- LKomodo\n",
      "GTCATTGTAGCTTACCAC-CAAAGCATAGTGCTGAAGACACTAA...--- LBearded\n",
      "GTTATTGTAGCTTACAAATTAAAGCACGGCACTGAAAATGCCAC...CGT LAnolis\n",
      "--------------------------------------------...--- CNile\n",
      "--------------------------------------------...--- CMisissipi\n",
      "--------------------------------------------...--- CTiny\n",
      "--------------------------------------------...--- CAfrican\n",
      "--------------------------------------------...--- BRooster\n",
      "--------------------------------------------...--- BZebra\n",
      "--------------------------------------------...--- BPigeon\n",
      "--------------------------------------------...--- BOstrich\n"
     ]
    }
   ],
   "source": [
    "#Clustal\n",
    "subprocess.run([\"clustalo\", \"-i\", \"sequences/all_sequences.fasta\", \"-o\", \n",
    "                \"alignments/all_aligned_clustal.aln\", \"--force\", \"--outfmt=clu\"])\n",
    "\n",
    "all_alignment_clustal = AlignIO.read(\"alignments/all_aligned_clustal.aln\", \"clustal\")\n",
    "print(all_alignment_clustal)"
   ]
  },
  {
   "cell_type": "code",
   "execution_count": 12,
   "id": "1f72acda",
   "metadata": {},
   "outputs": [
    {
     "name": "stderr",
     "output_type": "stream",
     "text": [
      "\n",
      "muscle 5.3.osxarm64 [6d49a2f]  8.6Gb RAM, 8 cores\n",
      "Built Nov 11 2024 03:02:22\n",
      "(C) Copyright 2004-2021 Robert C. Edgar.\n",
      "https://drive5.com\n",
      "\n",
      "[align sequences/all_sequences.fasta]\n",
      "Input: 16 seqs, avg length 3124, max 17223, min 240\n",
      "\n",
      "00:00 12Mb    100.0% Derep 16 uniques, 0 dupes\n",
      "00:00 12Mb   CPU has 8 cores, running 8 threads\n",
      "01:42 204Mb   100.0% Calc posteriors\n",
      "01:43 206Mb   100.0% UPGMA5         \n",
      "01:44 573Mb   100.0% Consistency (1/2)\n",
      "01:44 612Mb   100.0% Consistency (2/2)\n",
      "02:25 565Mb   100.0% Refining         \n"
     ]
    },
    {
     "name": "stdout",
     "output_type": "stream",
     "text": [
      "Alignment with 16 rows and 18916 columns\n",
      "GTCATTGTAGCTTACC-ACCAAAGCATAGTGCTGAAGACACTAA...CCC LBearded\n",
      "GTTATTGTAGCTTACAAATTAAAGCACGGCACTGAAAATGCCAC...CGT LAnolis\n",
      "--------------------------------------------...ACT CTiny\n",
      "TTGTGG----C---------------------------------...ATA LKomodo\n",
      "--------------------------------------------...--A CAfrican\n",
      "--------------------------------------------...-CC Tsmall\n",
      "--------------------------------------------...-TC BPigeon\n",
      "--------------------------------------------...AGC BOstrich\n",
      "--------------------------------------------...AGC BZebra\n",
      "--------------------------------------------...AAA LOccidental\n",
      "--------------------------------------------...-CC BRooster\n",
      "--------------------------------------------...-TA TGreek\n",
      "--------------------------------------------...-AA TGreen\n",
      "--------------------------------------------...-AA TDummy\n",
      "ATGACC--------------------------------------...--- CNile\n",
      "--------------------------------------------...--- CMisissipi\n"
     ]
    }
   ],
   "source": [
    "#Muscle\n",
    "subprocess.run([\"muscle\", \"-align\", \"sequences/all_sequences.fasta\", \"-output\", \"alignments/all_aligned_muscle.aln\"])\n",
    "\n",
    "all_alignment_muscle = AlignIO.read(\"alignments/all_aligned_muscle.aln\", \"fasta\")\n",
    "print(all_alignment_muscle)"
   ]
  },
  {
   "cell_type": "markdown",
   "id": "c3f08be5",
   "metadata": {},
   "source": [
    "#### Turtles and Crocodriles\n",
    "\n",
    "**Analysis of the turtle and crocodrile data** "
   ]
  },
  {
   "cell_type": "code",
   "execution_count": 13,
   "id": "3f7a9842",
   "metadata": {},
   "outputs": [
    {
     "data": {
      "text/plain": [
       "8"
      ]
     },
     "execution_count": 13,
     "metadata": {},
     "output_type": "execute_result"
    }
   ],
   "source": [
    "#First we put both files of sequences turtles and cocodriles on a single one file\n",
    "turtles_cocodriles = list(SeqIO.parse(\"sequences/turtles.fasta\", \"fasta\")) + \\\n",
    "                list(SeqIO.parse(\"sequences/cocodriles.fasta\", \"fasta\"))\n",
    "SeqIO.write(turtles_cocodriles, \"sequences/turtles_cocodriles_sequences.fasta\", \"fasta\")"
   ]
  },
  {
   "cell_type": "markdown",
   "id": "32aea097",
   "metadata": {},
   "source": [
    "**Alignments**"
   ]
  },
  {
   "cell_type": "code",
   "execution_count": 26,
   "id": "f8a459cb",
   "metadata": {},
   "outputs": [
    {
     "name": "stderr",
     "output_type": "stream",
     "text": [
      "\n",
      "muscle 5.3.osxarm64 [6d49a2f]  8.6Gb RAM, 8 cores\n",
      "Built Nov 11 2024 03:02:22\n",
      "(C) Copyright 2004-2021 Robert C. Edgar.\n",
      "https://drive5.com\n",
      "\n",
      "[align sequences/turtles_cocodriles_sequences.fasta]\n",
      "Input: 8 seqs, avg length 508, max 801, min 240\n",
      "\n",
      "00:00 12Mb    100.0% Derep 8 uniques, 0 dupes\n",
      "00:00 12Mb   CPU has 8 cores, running 8 threads\n",
      "00:00 177Mb   100.0% Calc posteriors\n",
      "00:00 147Mb   100.0% UPGMA5         \n",
      "00:00 156Mb   100.0% Consistency (1/2)\n",
      "00:00 156Mb     3.6% Consistency (2/2)\r"
     ]
    },
    {
     "name": "stdout",
     "output_type": "stream",
     "text": [
      "Alignment with 8 rows and 1191 columns\n",
      "--------------------------------------------...--T CTiny\n",
      "--------------------------------------------...GCC Tsmall\n",
      "--------------------------------------------...--- CAfrican\n",
      "--------------------------------------------...--A TGreek\n",
      "--------------------------------------------...--A TGreen\n",
      "--------------------------------------------...--A TDummy\n",
      "ATGACCCACCAACTACGAAAATCCCACCCACTTTTAAAACTAGT...--T CNile\n",
      "--------------------------------------------...--- CMisissipi\n"
     ]
    },
    {
     "name": "stderr",
     "output_type": "stream",
     "text": [
      "00:00 162Mb   100.0% Consistency (2/2)\n",
      "00:00 178Mb   100.0% Refining         \n"
     ]
    }
   ],
   "source": [
    "#Muscle\n",
    "subprocess.run([\"muscle\", \"-align\", \"sequences/turtles_cocodriles_sequences.fasta\", \"-output\", \"alignments/turtles_cocodriles_aligned_muscle.aln\"])\n",
    "\n",
    "alignment_turtles_cocodriles_muscle = AlignIO.read(\"alignments/turtles_cocodriles_aligned_muscle.aln\", \"fasta\")\n",
    "print(alignment_turtles_cocodriles_muscle)"
   ]
  },
  {
   "cell_type": "code",
   "execution_count": 14,
   "id": "361a75e6",
   "metadata": {},
   "outputs": [
    {
     "name": "stdout",
     "output_type": "stream",
     "text": [
      "Alignment with 8 rows and 1156 columns\n",
      "--------------------------------------------...--- TGreen\n",
      "--------------------------------------------...--- TDummy\n",
      "--------------------------------------------...--- Tsmall\n",
      "--------------------------------------------...--- TGreek\n",
      "ATGACCCACCAACTACGAAAATCCCACCCACTTTTAAAACTAGT...--- CNile\n",
      "--------------------------------------------...--- CMisissipi\n",
      "--------------------------------------------...ACT CTiny\n",
      "--------------------------------------------...--- CAfrican\n"
     ]
    }
   ],
   "source": [
    "#Clustal\n",
    "subprocess.run([\"clustalo\", \"-i\", \"sequences/turtles_cocodriles_sequences.fasta\", \"-o\", \n",
    "                \"alignments/turtles_cocodriles_aligned_clustal.aln\", \"--force\", \"--outfmt=clu\"])\n",
    "\n",
    "alignment_turtles_cocodriles_clustal = AlignIO.read(\"alignments/turtles_cocodriles_aligned_clustal.aln\", \"clustal\")\n",
    "print(alignment_turtles_cocodriles_clustal)"
   ]
  },
  {
   "cell_type": "markdown",
   "id": "8d10284a",
   "metadata": {},
   "source": [
    "#### Lizards and birds\n",
    "**Anlysis of the Lizards and birds data** "
   ]
  },
  {
   "cell_type": "code",
   "execution_count": 15,
   "id": "da95e676",
   "metadata": {},
   "outputs": [
    {
     "data": {
      "text/plain": [
       "8"
      ]
     },
     "execution_count": 15,
     "metadata": {},
     "output_type": "execute_result"
    }
   ],
   "source": [
    "#First we put both files of sequences lizards and birds on a single one file\n",
    "lizards_birds = list(SeqIO.parse(\"sequences/lizards.fasta\", \"fasta\")) + \\\n",
    "                list(SeqIO.parse(\"sequences/birds.fasta\", \"fasta\"))\n",
    "SeqIO.write(lizards_birds, \"sequences/lizards_birds_sequences.fasta\", \"fasta\")"
   ]
  },
  {
   "cell_type": "markdown",
   "id": "c51c6898",
   "metadata": {},
   "source": [
    "**Alignment**"
   ]
  },
  {
   "cell_type": "code",
   "execution_count": 16,
   "id": "2a4a1a98",
   "metadata": {},
   "outputs": [
    {
     "name": "stdout",
     "output_type": "stream",
     "text": [
      "Alignment with 8 rows and 18968 columns\n",
      "--------------------------------------------...--- LOccidental\n",
      "--------------------------------------------...--- LKomodo\n",
      "GTCATTGTAGCTTACCAC-CAAAGCATAGTGCTGAAGACACTAA...--- LBearded\n",
      "GTTATTGTAGCTTACAAATTAAAGCACGGCACTGAAAATGCCAC...CGT LAnolis\n",
      "--------------------------------------------...--- BRooster\n",
      "--------------------------------------------...--- BZebra\n",
      "--------------------------------------------...--- BPigeon\n",
      "--------------------------------------------...--- BOstrich\n"
     ]
    }
   ],
   "source": [
    "#Clustal\n",
    "subprocess.run([\"clustalo\", \"-i\", \"sequences/lizards_birds_sequences.fasta\", \"-o\", \n",
    "                \"alignments/lizards_birds_aligned_clustal.aln\", \"--force\", \"--outfmt=clu\"])\n",
    "\n",
    "alignment_lizards_birds_clustal = AlignIO.read(\"alignments/lizards_birds_aligned_clustal.aln\", \"clustal\")\n",
    "print(alignment_lizards_birds_clustal)"
   ]
  },
  {
   "cell_type": "code",
   "execution_count": 17,
   "id": "6ea23c06",
   "metadata": {},
   "outputs": [
    {
     "name": "stderr",
     "output_type": "stream",
     "text": [
      "\n",
      "muscle 5.3.osxarm64 [6d49a2f]  8.6Gb RAM, 8 cores\n",
      "Built Nov 11 2024 03:02:22\n",
      "(C) Copyright 2004-2021 Robert C. Edgar.\n",
      "https://drive5.com\n",
      "\n",
      "[align sequences/lizards_birds_sequences.fasta]\n",
      "Input: 8 seqs, avg length 5740, max 17223, min 287\n",
      "\n",
      "00:00 12Mb    100.0% Derep 8 uniques, 0 dupes\n",
      "00:00 12Mb   CPU has 8 cores, running 8 threads\n",
      "01:29 47Mb    100.0% Calc posteriors\n",
      "01:30 109Mb   100.0% UPGMA5         \n",
      "01:30 349Mb   100.0% Consistency (1/2)\n",
      "01:31 363Mb   100.0% Consistency (2/2)\n",
      "02:09 451Mb   100.0% Refining         \n"
     ]
    },
    {
     "name": "stdout",
     "output_type": "stream",
     "text": [
      "Alignment with 8 rows and 18916 columns\n",
      "GTCATTGTAGCTTACC-ACCAAAGCATAGTGCTGAAGACACTAA...CCC LBearded\n",
      "GTTATTGTAGCTTACAAATTAAAGCACGGCACTGAAAATGCCAC...CGT LAnolis\n",
      "TTGT----GGC---------------------------------...ATA LKomodo\n",
      "--------------------------------------------...--C BPigeon\n",
      "--------------------------------------------...AGC BOstrich\n",
      "--------------------------------------------...AGC BZebra\n",
      "TTGT----AAA---------------------------------...AAA LOccidental\n",
      "--------------------------------------------...-CC BRooster\n"
     ]
    }
   ],
   "source": [
    "#Muscle\n",
    "subprocess.run([\"muscle\", \"-align\", \"sequences/lizards_birds_sequences.fasta\", \"-output\", \"alignments/llizards_birds_aligned_muscle.aln\"])\n",
    "\n",
    "alignment_lizards_birds_muscle = AlignIO.read(\"alignments/llizards_birds_aligned_muscle.aln\", \"fasta\")\n",
    "print(alignment_lizards_birds_muscle)"
   ]
  },
  {
   "cell_type": "markdown",
   "id": "2459f950",
   "metadata": {},
   "source": [
    "## Building trees"
   ]
  },
  {
   "cell_type": "markdown",
   "id": "2349532d",
   "metadata": {},
   "source": [
    "### Jukes-Cantor"
   ]
  },
  {
   "cell_type": "code",
   "execution_count": 18,
   "id": "f3367102",
   "metadata": {},
   "outputs": [],
   "source": [
    "import math\n",
    "from Bio.Align import MultipleSeqAlignment\n",
    "\n",
    "def jukes_cantor_distance(seq1, seq2):\n",
    "    assert len(seq1) == len(seq2), \"The sequences must have the same length\"\n",
    "    differences = sum(1 for a, b in zip(seq1, seq2) if a != b and a != '-' and b != '-')\n",
    "    valid_sites = sum(1 for a, b in zip(seq1, seq2) if a != '-' and b != '-')\n",
    "    if valid_sites == 0:\n",
    "        return 0.0\n",
    "    p = differences / valid_sites\n",
    "    if p >= 0.75:\n",
    "        return float('inf')  #Cannot calculate JC if p>= 0.75\n",
    "    return -3/4 * math.log(1 - (4/3)*p)"
   ]
  },
  {
   "cell_type": "markdown",
   "id": "318cef0f",
   "metadata": {},
   "source": [
    "### Kimura"
   ]
  },
  {
   "cell_type": "code",
   "execution_count": 19,
   "id": "b9d6821e",
   "metadata": {},
   "outputs": [],
   "source": [
    "import math\n",
    "\n",
    "def is_transition(a, b):\n",
    "    transitions = [('A', 'G'), ('G', 'A'), ('C', 'T'), ('T', 'C')]\n",
    "    return (a, b) in transitions\n",
    "\n",
    "def kimura_distance(seq1, seq2):\n",
    "    assert len(seq1) == len(seq2), \"The sequences must have the same length\"\n",
    "    transitions = 0\n",
    "    transversions = 0\n",
    "    valid_sites = 0\n",
    "    \n",
    "    for a, b in zip(seq1.upper(), seq2.upper()):\n",
    "        if a in \"ACGT\" and b in \"ACGT\":\n",
    "            valid_sites += 1\n",
    "            if a != b:\n",
    "                if is_transition(a, b):\n",
    "                    transitions += 1\n",
    "                else:\n",
    "                    transversions += 1\n",
    "\n",
    "    if valid_sites == 0:\n",
    "        return 0.0\n",
    "\n",
    "    P = transitions / valid_sites\n",
    "    Q = transversions / valid_sites\n",
    "\n",
    "    if (1 - 2*P - Q) <= 0 or (1 - 2*Q) <= 0:\n",
    "        return float('inf')  #Can't calculate Kimura in this case\n",
    "\n",
    "    try:\n",
    "        distance = -0.5 * math.log(1 - 2*P - Q) - 0.25 * math.log(1 - 2*Q)\n",
    "    except ValueError:\n",
    "        distance = float('inf')\n",
    "    return distance"
   ]
  },
  {
   "cell_type": "code",
   "execution_count": 20,
   "id": "b44b2689",
   "metadata": {},
   "outputs": [],
   "source": [
    "import numpy as np\n",
    "\n",
    "def compute_distance_matrix(alignment, distance_function):\n",
    "    ids = [record.id for record in alignment]\n",
    "    n = len(alignment)\n",
    "    matrix = np.zeros((n, n))\n",
    "\n",
    "    for i in range(n):\n",
    "        for j in range(n):\n",
    "            if i <= j:\n",
    "                d = distance_function(str(alignment[i].seq), str(alignment[j].seq))\n",
    "                matrix[i][j] = d\n",
    "                matrix[j][i] = d  # symetric\n",
    "    return ids, matrix\n"
   ]
  },
  {
   "cell_type": "markdown",
   "id": "2d1f2c63",
   "metadata": {},
   "source": [
    "### Building the distance matrixs"
   ]
  },
  {
   "cell_type": "markdown",
   "id": "a69f0d10",
   "metadata": {},
   "source": [
    "#### All"
   ]
  },
  {
   "cell_type": "code",
   "execution_count": 22,
   "id": "0e86b450",
   "metadata": {},
   "outputs": [],
   "source": [
    "#Kimura\n",
    "ids, matrix_all_clustal_kimura = compute_distance_matrix(all_alignment_clustal, kimura_distance)\n",
    "ids, matrix_all_muscle_kimura = compute_distance_matrix(all_alignment_muscle, kimura_distance)\n",
    "\n",
    "#Jukes cantor\n",
    "ids, matrix_all_clustal_jc = compute_distance_matrix(all_alignment_clustal, jukes_cantor_distance)\n",
    "ids, matrix_all_muscle_jc = compute_distance_matrix(all_alignment_muscle, jukes_cantor_distance)\n"
   ]
  },
  {
   "cell_type": "markdown",
   "id": "e70c5674",
   "metadata": {},
   "source": [
    "#### Turtles and Cocodriles"
   ]
  },
  {
   "cell_type": "code",
   "execution_count": 23,
   "id": "19d68a17",
   "metadata": {},
   "outputs": [
    {
     "ename": "NameError",
     "evalue": "name 'alignment_turtles_cocodriles_muscle' is not defined",
     "output_type": "error",
     "traceback": [
      "\u001b[31m---------------------------------------------------------------------------\u001b[39m",
      "\u001b[31mNameError\u001b[39m                                 Traceback (most recent call last)",
      "\u001b[36mCell\u001b[39m\u001b[36m \u001b[39m\u001b[32mIn[23]\u001b[39m\u001b[32m, line 3\u001b[39m\n\u001b[32m      1\u001b[39m \u001b[38;5;66;03m#Kimura\u001b[39;00m\n\u001b[32m      2\u001b[39m ids, matrix_turtles_cocodriles_clustal_kimura = compute_distance_matrix(alignment_turtles_cocodriles_clustal, kimura_distance)\n\u001b[32m----> \u001b[39m\u001b[32m3\u001b[39m ids, matrix_turtles_cocodriles_muscle_kimura = compute_distance_matrix(\u001b[43malignment_turtles_cocodriles_muscle\u001b[49m, kimura_distance)\n\u001b[32m      5\u001b[39m \u001b[38;5;66;03m#Jukes cantor\u001b[39;00m\n\u001b[32m      6\u001b[39m ids, matrix_turtles_cocodriles_clustal_jc = compute_distance_matrix(alignment_turtles_cocodriles_clustal, jukes_cantor_distance)\n",
      "\u001b[31mNameError\u001b[39m: name 'alignment_turtles_cocodriles_muscle' is not defined"
     ]
    }
   ],
   "source": [
    "#Kimura\n",
    "ids, matrix_turtles_cocodriles_clustal_kimura = compute_distance_matrix(alignment_turtles_cocodriles_clustal, kimura_distance)\n",
    "ids, matrix_turtles_cocodriles_muscle_kimura = compute_distance_matrix(alignment_turtles_cocodriles_muscle, kimura_distance)\n",
    "\n",
    "#Jukes cantor\n",
    "ids, matrix_turtles_cocodriles_clustal_jc = compute_distance_matrix(alignment_turtles_cocodriles_clustal, jukes_cantor_distance)\n",
    "ids, matrix_turtles_cocodriles_muscle_jc = compute_distance_matrix(alignment_turtles_cocodriles_muscle, jukes_cantor_distance)\n"
   ]
  },
  {
   "cell_type": "code",
   "execution_count": null,
   "id": "f3cee47c",
   "metadata": {},
   "outputs": [],
   "source": []
  }
 ],
 "metadata": {
  "kernelspec": {
   "display_name": "aphylogeo-env",
   "language": "python",
   "name": "python3"
  },
  "language_info": {
   "codemirror_mode": {
    "name": "ipython",
    "version": 3
   },
   "file_extension": ".py",
   "mimetype": "text/x-python",
   "name": "python",
   "nbconvert_exporter": "python",
   "pygments_lexer": "ipython3",
   "version": "3.11.9"
  }
 },
 "nbformat": 4,
 "nbformat_minor": 5
}
