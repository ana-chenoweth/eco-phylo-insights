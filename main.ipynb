{
 "cells": [
  {
   "cell_type": "code",
   "execution_count": 2,
   "id": "5f9ee3d6",
   "metadata": {},
   "outputs": [],
   "source": [
    "from Bio import SeqIO\n",
    "from io import StringIO\n",
    "from Bio import AlignIO\n",
    "from Bio import Phylo\n",
    "from Bio.Phylo.TreeConstruction import DistanceCalculator, DistanceTreeConstructor\n",
    "from Bio.Align.Applications import MuscleCommandline\n",
    "import subprocess"
   ]
  },
  {
   "cell_type": "markdown",
   "id": "32cfa50f",
   "metadata": {},
   "source": [
    "## Making the sequences"
   ]
  },
  {
   "cell_type": "markdown",
   "id": "3a70b393",
   "metadata": {},
   "source": [
    "#### Turtles"
   ]
  },
  {
   "cell_type": "code",
   "execution_count": 3,
   "id": "a2ec7e49",
   "metadata": {},
   "outputs": [],
   "source": [
    "#Reading the sequences from FASTA files\n",
    "t1 = SeqIO.read(\"sequences/sequence_turtle1.fasta\", \"fasta\")\n",
    "t2 = SeqIO.read(\"sequences/sequence_turtle2.fasta\", \"fasta\")\n",
    "t3 = SeqIO.read(\"sequences/sequence_turtle3.fasta\", \"fasta\")\n",
    "t4 = SeqIO.read(\"sequences/sequence_turtle4.fasta\", \"fasta\")\n",
    "\n",
    "#Putting an id\n",
    "t1.id = 'TGreen turtle'\n",
    "t2.id = 'TDummy turtle'\n",
    "t3.id = 'Tsmall turtle'\n",
    "t4.id = 'TGreek trutle'\n",
    "\n",
    "#Put them into one file of all the turtles\n",
    "turtles = SeqIO.write([t1,t2,t3,t4], \"sequences/turtles.fasta\", \"fasta\")"
   ]
  },
  {
   "cell_type": "markdown",
   "id": "2e623c8c",
   "metadata": {},
   "source": [
    "#### Lizards"
   ]
  },
  {
   "cell_type": "code",
   "execution_count": 4,
   "id": "173479f8",
   "metadata": {},
   "outputs": [],
   "source": [
    "#Reading the sequences from FASTA files\n",
    "l1 = SeqIO.read(\"sequences/sequence_lizard1.fasta\", \"fasta\")\n",
    "l2 = SeqIO.read(\"sequences/sequence_lizard2.fasta\", \"fasta\")\n",
    "l3 = SeqIO.read(\"sequences/sequence_lizard3.fasta\", \"fasta\")\n",
    "l4 = SeqIO.read(\"sequences/sequence_lizard4.fasta\", \"fasta\")\n",
    "\n",
    "#Putting an id\n",
    "l1.id = 'LOccidental lizard'\n",
    "l2.id = 'LKomodo lizard'\n",
    "l3.id = 'LBearded lizard'\n",
    "l4.id = 'LAnolis lizard'\n",
    "\n",
    "#Put them into one file of all the lizards\n",
    "lizards = SeqIO.write([l1,l2,l3,l4], \"sequences/lizards.fasta\", \"fasta\")"
   ]
  },
  {
   "cell_type": "markdown",
   "id": "b4a40f3e",
   "metadata": {},
   "source": [
    "#### Cocodriles"
   ]
  },
  {
   "cell_type": "code",
   "execution_count": 5,
   "id": "de8cd276",
   "metadata": {},
   "outputs": [],
   "source": [
    "#Reading the sequences from FASTA files\n",
    "c1 = SeqIO.read(\"sequences/sequence_cocodrile1.fasta\", \"fasta\")\n",
    "c2 = SeqIO.read(\"sequences/sequence_cocodrile2.fasta\", \"fasta\")\n",
    "c3 = SeqIO.read(\"sequences/sequence_cocodrile3.fasta\", \"fasta\")\n",
    "c4 = SeqIO.read(\"sequences/sequence_cocodrile4.fasta\", \"fasta\")\n",
    "\n",
    "#Putting an id\n",
    "c1.id = 'CNile cocodrile'\n",
    "c2.id = 'CMisissipi Alligator'\n",
    "c3.id = 'CTiny cocodrile'\n",
    "c4.id = 'CAfrican cocodrile'\n",
    "\n",
    "#Put them into one file of all the cocodriles\n",
    "cocrodiles = SeqIO.write([c1,c2,c3,c4], \"sequences/cocodriles.fasta\", \"fasta\")"
   ]
  },
  {
   "cell_type": "markdown",
   "id": "77ccc49c",
   "metadata": {},
   "source": [
    "#### Birds"
   ]
  },
  {
   "cell_type": "code",
   "execution_count": 6,
   "id": "d12cfb0f",
   "metadata": {},
   "outputs": [],
   "source": [
    "#Reading the sequences from FASTA files\n",
    "b1 = SeqIO.read(\"sequences/sequence_bird1.fasta\", \"fasta\")\n",
    "b2 = SeqIO.read(\"sequences/sequence_bird2.fasta\", \"fasta\")\n",
    "b3 = SeqIO.read(\"sequences/sequence_bird3.fasta\", \"fasta\")\n",
    "b4 = SeqIO.read(\"sequences/sequence_bird4.fasta\", \"fasta\")\n",
    "\n",
    "#Putting an id\n",
    "b1.id = 'BRooster bird'\n",
    "b2.id = 'BZebra bird'\n",
    "b3.id = 'BPigeon bird'\n",
    "b4.id = 'BOstrich'\n",
    "\n",
    "#Put them into one file of all the cocodriles\n",
    "birds = SeqIO.write([b1,b2,b3,b4], \"sequences/birds.fasta\", \"fasta\")"
   ]
  },
  {
   "cell_type": "code",
   "execution_count": 7,
   "id": "2288953f",
   "metadata": {},
   "outputs": [
    {
     "data": {
      "text/plain": [
       "16"
      ]
     },
     "execution_count": 7,
     "metadata": {},
     "output_type": "execute_result"
    }
   ],
   "source": [
    "#Putting all the sequences of all the animals in one\n",
    "all_sequences = list(SeqIO.parse(\"sequences/turtles.fasta\", \"fasta\")) + \\\n",
    "                list(SeqIO.parse(\"sequences/lizards.fasta\", \"fasta\")) + \\\n",
    "                list(SeqIO.parse(\"sequences/cocodriles.fasta\", \"fasta\")) + \\\n",
    "                list(SeqIO.parse(\"sequences/birds.fasta\", \"fasta\"))\n",
    "\n",
    "SeqIO.write(all_sequences, \"sequences/all_sequences.fasta\", \"fasta\")"
   ]
  },
  {
   "cell_type": "markdown",
   "id": "1d360c8a",
   "metadata": {},
   "source": [
    "## Alignning sequences"
   ]
  },
  {
   "cell_type": "markdown",
   "id": "cfd65a0b",
   "metadata": {},
   "source": [
    "### All animals"
   ]
  },
  {
   "cell_type": "code",
   "execution_count": 9,
   "id": "902d28c2",
   "metadata": {},
   "outputs": [
    {
     "name": "stdout",
     "output_type": "stream",
     "text": [
      "Alignment with 16 rows and 18954 columns\n",
      "--------------------------------------------...--- TGreen\n",
      "--------------------------------------------...--- TDummy\n",
      "--------------------------------------------...--- Tsmall\n",
      "--------------------------------------------...--- TGreek\n",
      "--------------------------------------------...--- LOccidental\n",
      "--------------------------------------------...--- LKomodo\n",
      "GTCATTGTAGCTTACCAC-CAAAGCATAGTGCTGAAGACACTAA...--- LBearded\n",
      "GTTATTGTAGCTTACAAATTAAAGCACGGCACTGAAAATGCCAC...CGT LAnolis\n",
      "--------------------------------------------...--- CNile\n",
      "--------------------------------------------...--- CMisissipi\n",
      "--------------------------------------------...--- CTiny\n",
      "--------------------------------------------...--- CAfrican\n",
      "--------------------------------------------...--- BRooster\n",
      "--------------------------------------------...--- BZebra\n",
      "--------------------------------------------...--- BPigeon\n",
      "--------------------------------------------...--- BOstrich\n"
     ]
    }
   ],
   "source": [
    "#Clustal\n",
    "subprocess.run([\"clustalo\", \"-i\", \"sequences/all_sequences.fasta\", \"-o\", \n",
    "                \"alignments/all_aligned_clustal.aln\", \"--force\", \"--outfmt=clu\"])\n",
    "\n",
    "all_alignment_clustal = AlignIO.read(\"alignments/all_aligned_clustal.aln\", \"clustal\")\n",
    "print(all_alignment_clustal)"
   ]
  },
  {
   "cell_type": "code",
   "execution_count": 10,
   "id": "1f72acda",
   "metadata": {},
   "outputs": [
    {
     "name": "stderr",
     "output_type": "stream",
     "text": [
      "\n",
      "muscle 5.3.osxarm64 [6d49a2f]  8.6Gb RAM, 8 cores\n",
      "Built Nov 11 2024 03:02:22\n",
      "(C) Copyright 2004-2021 Robert C. Edgar.\n",
      "https://drive5.com\n",
      "\n",
      "[align sequences/all_sequences.fasta]\n",
      "Input: 16 seqs, avg length 3124, max 17223, min 240\n",
      "\n",
      "00:00 12Mb    100.0% Derep 16 uniques, 0 dupes\n",
      "00:00 12Mb   CPU has 8 cores, running 8 threads\n",
      "01:53 48Mb    100.0% Calc posteriors\n",
      "01:54 110Mb   100.0% UPGMA5         \n",
      "01:56 295Mb   100.0% Consistency (1/2)\n",
      "01:57 265Mb   100.0% Consistency (2/2)\n",
      "02:44 11Mb    100.0% Refining         \n"
     ]
    },
    {
     "name": "stdout",
     "output_type": "stream",
     "text": [
      "Alignment with 16 rows and 18916 columns\n",
      "GTCATTGTAGCTTACC-ACCAAAGCATAGTGCTGAAGACACTAA...CCC LBearded\n",
      "GTTATTGTAGCTTACAAATTAAAGCACGGCACTGAAAATGCCAC...CGT LAnolis\n",
      "--------------------------------------------...ACT CTiny\n",
      "TTGTGG----C---------------------------------...ATA LKomodo\n",
      "--------------------------------------------...--A CAfrican\n",
      "--------------------------------------------...-CC Tsmall\n",
      "--------------------------------------------...-TC BPigeon\n",
      "--------------------------------------------...AGC BOstrich\n",
      "--------------------------------------------...AGC BZebra\n",
      "--------------------------------------------...AAA LOccidental\n",
      "--------------------------------------------...-CC BRooster\n",
      "--------------------------------------------...-TA TGreek\n",
      "--------------------------------------------...-AA TGreen\n",
      "--------------------------------------------...-AA TDummy\n",
      "ATGACC--------------------------------------...--- CNile\n",
      "--------------------------------------------...--- CMisissipi\n"
     ]
    }
   ],
   "source": [
    "#Muscle\n",
    "subprocess.run([\"muscle\", \"-align\", \"sequences/all_sequences.fasta\", \"-output\", \"alignments/all_aligned_muscle.aln\"])\n",
    "\n",
    "all_alignment_muscle = AlignIO.read(\"alignments/all_aligned_muscle.aln\", \"fasta\")\n",
    "print(all_alignment_muscle)"
   ]
  },
  {
   "cell_type": "markdown",
   "id": "c3f08be5",
   "metadata": {},
   "source": [
    "#### Turtles and Cocodriles\n",
    "\n",
    "**Anlysis of the turtle and cocodrile data** "
   ]
  },
  {
   "cell_type": "code",
   "execution_count": 11,
   "id": "3f7a9842",
   "metadata": {},
   "outputs": [
    {
     "data": {
      "text/plain": [
       "8"
      ]
     },
     "execution_count": 11,
     "metadata": {},
     "output_type": "execute_result"
    }
   ],
   "source": [
    "#First we put both files of sequences turtles and cocodriles on a single one file\n",
    "turtles_cocodriles = list(SeqIO.parse(\"sequences/turtles.fasta\", \"fasta\")) + \\\n",
    "                list(SeqIO.parse(\"sequences/cocodriles.fasta\", \"fasta\"))\n",
    "SeqIO.write(turtles_cocodriles, \"sequences/turtles_cocodriles_sequences.fasta\", \"fasta\")"
   ]
  },
  {
   "cell_type": "markdown",
   "id": "32aea097",
   "metadata": {},
   "source": [
    "**Alignments**"
   ]
  },
  {
   "cell_type": "code",
   "execution_count": 12,
   "id": "361a75e6",
   "metadata": {},
   "outputs": [
    {
     "name": "stdout",
     "output_type": "stream",
     "text": [
      "Alignment with 8 rows and 1156 columns\n",
      "--------------------------------------------...--- TGreen\n",
      "--------------------------------------------...--- TDummy\n",
      "--------------------------------------------...--- Tsmall\n",
      "--------------------------------------------...--- TGreek\n",
      "ATGACCCACCAACTACGAAAATCCCACCCACTTTTAAAACTAGT...--- CNile\n",
      "--------------------------------------------...--- CMisissipi\n",
      "--------------------------------------------...ACT CTiny\n",
      "--------------------------------------------...--- CAfrican\n"
     ]
    }
   ],
   "source": [
    "#Clustal\n",
    "subprocess.run([\"clustalo\", \"-i\", \"sequences/turtles_cocodriles_sequences.fasta\", \"-o\", \n",
    "                \"alignments/turtles_cocodriles_aligned_clustal.aln\", \"--force\", \"--outfmt=clu\"])\n",
    "\n",
    "alignment_turtles_cocodriles_clustal = AlignIO.read(\"alignments/turtles_cocodriles_aligned_clustal.aln\", \"clustal\")\n",
    "print(alignment_turtles_cocodriles_clustal)"
   ]
  },
  {
   "cell_type": "code",
   "execution_count": null,
   "id": "b3a4629d",
   "metadata": {},
   "outputs": [],
   "source": []
  }
 ],
 "metadata": {
  "kernelspec": {
   "display_name": "aphylogeo-env",
   "language": "python",
   "name": "python3"
  },
  "language_info": {
   "codemirror_mode": {
    "name": "ipython",
    "version": 3
   },
   "file_extension": ".py",
   "mimetype": "text/x-python",
   "name": "python",
   "nbconvert_exporter": "python",
   "pygments_lexer": "ipython3",
   "version": "3.11.9"
  }
 },
 "nbformat": 4,
 "nbformat_minor": 5
}
