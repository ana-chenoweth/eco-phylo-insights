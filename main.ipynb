{
 "cells": [
  {
   "cell_type": "code",
   "execution_count": 5,
   "id": "5f9ee3d6",
   "metadata": {},
   "outputs": [],
   "source": [
    "from Bio import SeqIO\n",
    "from io import StringIO\n",
    "from Bio import AlignIO\n",
    "from Bio import Phylo\n",
    "from Bio.Phylo.TreeConstruction import DistanceCalculator, DistanceTreeConstructor\n",
    "from Bio.Align.Applications import MuscleCommandline\n",
    "import subprocess"
   ]
  },
  {
   "cell_type": "markdown",
   "id": "32cfa50f",
   "metadata": {},
   "source": [
    "## Making the sequences"
   ]
  },
  {
   "cell_type": "markdown",
   "id": "3a70b393",
   "metadata": {},
   "source": [
    "#### Turtles"
   ]
  },
  {
   "cell_type": "code",
   "execution_count": 6,
   "id": "a2ec7e49",
   "metadata": {},
   "outputs": [],
   "source": [
    "#Reading the sequences from FASTA files\n",
    "t1 = SeqIO.read(\"sequences/sequence_turtle1.fasta\", \"fasta\")\n",
    "t2 = SeqIO.read(\"sequences/sequence_turtle2.fasta\", \"fasta\")\n",
    "t3 = SeqIO.read(\"sequences/sequence_turtle3.fasta\", \"fasta\")\n",
    "t4 = SeqIO.read(\"sequences/sequence_turtle4.fasta\", \"fasta\")\n",
    "\n",
    "#Putting an id\n",
    "t1.id = 'TGreen turtle'\n",
    "t2.id = 'TDummy turtle'\n",
    "t3.id = 'Tsmall turtle'\n",
    "t4.id = 'TGreek trutle'\n",
    "\n",
    "#Put them into one file of all the turtles\n",
    "turtles = SeqIO.write([t1,t2,t3,t4], \"sequences/turtles.fasta\", \"fasta\")"
   ]
  },
  {
   "cell_type": "markdown",
   "id": "2e623c8c",
   "metadata": {},
   "source": [
    "#### Lizards"
   ]
  },
  {
   "cell_type": "code",
   "execution_count": 7,
   "id": "173479f8",
   "metadata": {},
   "outputs": [],
   "source": [
    "#Reading the sequences from FASTA files\n",
    "l1 = SeqIO.read(\"sequences/sequence_lizard1.fasta\", \"fasta\")\n",
    "l2 = SeqIO.read(\"sequences/sequence_lizard2.fasta\", \"fasta\")\n",
    "l3 = SeqIO.read(\"sequences/sequence_lizard3.fasta\", \"fasta\")\n",
    "l4 = SeqIO.read(\"sequences/sequence_lizard4.fasta\", \"fasta\")\n",
    "\n",
    "#Putting an id\n",
    "l1.id = 'LOccidental lizard'\n",
    "l2.id = 'LKomodo lizard'\n",
    "l3.id = 'LBearded lizard'\n",
    "l4.id = 'LAnolis lizard'\n",
    "\n",
    "#Put them into one file of all the lizards\n",
    "lizards = SeqIO.write([l1,l2,l3,l4], \"sequences/lizards.fasta\", \"fasta\")"
   ]
  },
  {
   "cell_type": "markdown",
   "id": "b4a40f3e",
   "metadata": {},
   "source": [
    "#### Cocodriles"
   ]
  },
  {
   "cell_type": "code",
   "execution_count": 8,
   "id": "de8cd276",
   "metadata": {},
   "outputs": [],
   "source": [
    "#Reading the sequences from FASTA files\n",
    "c1 = SeqIO.read(\"sequences/sequence_cocodrile1.fasta\", \"fasta\")\n",
    "c2 = SeqIO.read(\"sequences/sequence_cocodrile2.fasta\", \"fasta\")\n",
    "c3 = SeqIO.read(\"sequences/sequence_cocodrile3.fasta\", \"fasta\")\n",
    "c4 = SeqIO.read(\"sequences/sequence_cocodrile4.fasta\", \"fasta\")\n",
    "\n",
    "#Putting an id\n",
    "c1.id = 'CNile cocodrile'\n",
    "c2.id = 'CMisissipi Alligator'\n",
    "c3.id = 'CTiny cocodrile'\n",
    "c4.id = 'CAfrican cocodrile'\n",
    "\n",
    "#Put them into one file of all the cocodriles\n",
    "cocrodiles = SeqIO.write([c1,c2,c3,c4], \"sequences/cocodriles.fasta\", \"fasta\")"
   ]
  },
  {
   "cell_type": "markdown",
   "id": "77ccc49c",
   "metadata": {},
   "source": [
    "#### Birds"
   ]
  },
  {
   "cell_type": "code",
   "execution_count": 9,
   "id": "d12cfb0f",
   "metadata": {},
   "outputs": [],
   "source": [
    "#Reading the sequences from FASTA files\n",
    "b1 = SeqIO.read(\"sequences/sequence_bird1.fasta\", \"fasta\")\n",
    "b2 = SeqIO.read(\"sequences/sequence_bird2.fasta\", \"fasta\")\n",
    "b3 = SeqIO.read(\"sequences/sequence_bird3.fasta\", \"fasta\")\n",
    "b4 = SeqIO.read(\"sequences/sequence_bird4.fasta\", \"fasta\")\n",
    "\n",
    "#Putting an id\n",
    "b1.id = 'BRooster bird'\n",
    "b2.id = 'BZebra bird'\n",
    "b3.id = 'BPigeon bird'\n",
    "b4.id = 'BOstrich'\n",
    "\n",
    "#Put them into one file of all the cocodriles\n",
    "birds = SeqIO.write([b1,b2,b3,b4], \"sequences/birds.fasta\", \"fasta\")"
   ]
  },
  {
   "cell_type": "code",
   "execution_count": 10,
   "id": "2288953f",
   "metadata": {},
   "outputs": [
    {
     "data": {
      "text/plain": [
       "16"
      ]
     },
     "execution_count": 10,
     "metadata": {},
     "output_type": "execute_result"
    }
   ],
   "source": [
    "#Putting all the sequences of all the animals in one\n",
    "all_sequences = list(SeqIO.parse(\"sequences/turtles.fasta\", \"fasta\")) + \\\n",
    "                list(SeqIO.parse(\"sequences/lizards.fasta\", \"fasta\")) + \\\n",
    "                list(SeqIO.parse(\"sequences/cocodriles.fasta\", \"fasta\")) + \\\n",
    "                list(SeqIO.parse(\"sequences/birds.fasta\", \"fasta\"))\n",
    "\n",
    "SeqIO.write(all_sequences, \"sequences/all_sequences.fasta\", \"fasta\")"
   ]
  },
  {
   "cell_type": "markdown",
   "id": "1d360c8a",
   "metadata": {},
   "source": [
    "## Alignning sequences"
   ]
  },
  {
   "cell_type": "markdown",
   "id": "cfd65a0b",
   "metadata": {},
   "source": [
    "### All animals"
   ]
  },
  {
   "cell_type": "code",
   "execution_count": 11,
   "id": "902d28c2",
   "metadata": {},
   "outputs": [
    {
     "name": "stdout",
     "output_type": "stream",
     "text": [
      "Alignment with 16 rows and 18954 columns\n",
      "--------------------------------------------...--- TGreen\n",
      "--------------------------------------------...--- TDummy\n",
      "--------------------------------------------...--- Tsmall\n",
      "--------------------------------------------...--- TGreek\n",
      "--------------------------------------------...--- LOccidental\n",
      "--------------------------------------------...--- LKomodo\n",
      "GTCATTGTAGCTTACCAC-CAAAGCATAGTGCTGAAGACACTAA...--- LBearded\n",
      "GTTATTGTAGCTTACAAATTAAAGCACGGCACTGAAAATGCCAC...CGT LAnolis\n",
      "--------------------------------------------...--- CNile\n",
      "--------------------------------------------...--- CMisissipi\n",
      "--------------------------------------------...--- CTiny\n",
      "--------------------------------------------...--- CAfrican\n",
      "--------------------------------------------...--- BRooster\n",
      "--------------------------------------------...--- BZebra\n",
      "--------------------------------------------...--- BPigeon\n",
      "--------------------------------------------...--- BOstrich\n"
     ]
    }
   ],
   "source": [
    "#Clustal\n",
    "subprocess.run([\"clustalo\", \"-i\", \"sequences/all_sequences.fasta\", \"-o\", \n",
    "                \"alignments/all_aligned_clustal.aln\", \"--force\", \"--outfmt=clu\"])\n",
    "\n",
    "all_alignment_clustal = AlignIO.read(\"alignments/all_aligned_clustal.aln\", \"clustal\")\n",
    "print(all_alignment_clustal)"
   ]
  },
  {
   "cell_type": "code",
   "execution_count": 12,
   "id": "1f72acda",
   "metadata": {},
   "outputs": [
    {
     "name": "stderr",
     "output_type": "stream",
     "text": [
      "\n",
      "muscle 5.3.osxarm64 [6d49a2f]  8.6Gb RAM, 8 cores\n",
      "Built Nov 11 2024 03:02:22\n",
      "(C) Copyright 2004-2021 Robert C. Edgar.\n",
      "https://drive5.com\n",
      "\n",
      "[align sequences/all_sequences.fasta]\n",
      "Input: 16 seqs, avg length 3124, max 17223, min 240\n",
      "\n",
      "00:00 12Mb    100.0% Derep 16 uniques, 0 dupes\n",
      "00:00 12Mb   CPU has 8 cores, running 8 threads\n",
      "01:39 233Mb   100.0% Calc posteriors\n",
      "01:40 235Mb   100.0% UPGMA5         \n",
      "01:41 457Mb   100.0% Consistency (1/2)\n",
      "01:42 393Mb   100.0% Consistency (2/2)\n",
      "02:23 173Mb   100.0% Refining         \n"
     ]
    },
    {
     "name": "stdout",
     "output_type": "stream",
     "text": [
      "Alignment with 16 rows and 18916 columns\n",
      "GTCATTGTAGCTTACC-ACCAAAGCATAGTGCTGAAGACACTAA...CCC LBearded\n",
      "GTTATTGTAGCTTACAAATTAAAGCACGGCACTGAAAATGCCAC...CGT LAnolis\n",
      "--------------------------------------------...ACT CTiny\n",
      "TTGTGG----C---------------------------------...ATA LKomodo\n",
      "--------------------------------------------...--A CAfrican\n",
      "--------------------------------------------...-CC Tsmall\n",
      "--------------------------------------------...-TC BPigeon\n",
      "--------------------------------------------...AGC BOstrich\n",
      "--------------------------------------------...AGC BZebra\n",
      "--------------------------------------------...AAA LOccidental\n",
      "--------------------------------------------...-CC BRooster\n",
      "--------------------------------------------...-TA TGreek\n",
      "--------------------------------------------...-AA TGreen\n",
      "--------------------------------------------...-AA TDummy\n",
      "ATGACC--------------------------------------...--- CNile\n",
      "--------------------------------------------...--- CMisissipi\n"
     ]
    }
   ],
   "source": [
    "#Muscle\n",
    "subprocess.run([\"muscle\", \"-align\", \"sequences/all_sequences.fasta\", \"-output\", \"alignments/all_aligned_muscle.aln\"])\n",
    "\n",
    "all_alignment_muscle = AlignIO.read(\"alignments/all_aligned_muscle.aln\", \"fasta\")\n",
    "print(all_alignment_muscle)"
   ]
  },
  {
   "cell_type": "markdown",
   "id": "c3f08be5",
   "metadata": {},
   "source": [
    "#### Turtles and Crocodriles\n",
    "\n",
    "**Analysis of the turtle and crocodrile data** "
   ]
  },
  {
   "cell_type": "code",
   "execution_count": 13,
   "id": "3f7a9842",
   "metadata": {},
   "outputs": [
    {
     "data": {
      "text/plain": [
       "8"
      ]
     },
     "execution_count": 13,
     "metadata": {},
     "output_type": "execute_result"
    }
   ],
   "source": [
    "#First we put both files of sequences turtles and cocodriles on a single one file\n",
    "turtles_cocodriles = list(SeqIO.parse(\"sequences/turtles.fasta\", \"fasta\")) + \\\n",
    "                list(SeqIO.parse(\"sequences/cocodriles.fasta\", \"fasta\"))\n",
    "SeqIO.write(turtles_cocodriles, \"sequences/turtles_cocodriles_sequences.fasta\", \"fasta\")"
   ]
  },
  {
   "cell_type": "markdown",
   "id": "32aea097",
   "metadata": {},
   "source": [
    "**Alignments**"
   ]
  },
  {
   "cell_type": "code",
   "execution_count": 14,
   "id": "f8a459cb",
   "metadata": {},
   "outputs": [
    {
     "name": "stderr",
     "output_type": "stream",
     "text": [
      "\n",
      "muscle 5.3.osxarm64 [6d49a2f]  8.6Gb RAM, 8 cores\n",
      "Built Nov 11 2024 03:02:22\n",
      "(C) Copyright 2004-2021 Robert C. Edgar.\n",
      "https://drive5.com\n",
      "\n",
      "[align sequences/turtles_cocodriles_sequences.fasta]\n",
      "Input: 8 seqs, avg length 508, max 801, min 240\n",
      "\n",
      "00:00 12Mb    100.0% Derep 8 uniques, 0 dupes\n",
      "00:00 12Mb   CPU has 8 cores, running 8 threads\n",
      "00:00 188Mb   100.0% Calc posteriors\n",
      "00:01 135Mb   100.0% UPGMA5         \n",
      "00:01 143Mb   100.0% Consistency (1/2)\n",
      "00:01 146Mb   100.0% Consistency (2/2)\n",
      "00:01 146Mb     1.0% Refining         \r"
     ]
    },
    {
     "name": "stdout",
     "output_type": "stream",
     "text": [
      "Alignment with 8 rows and 1191 columns\n",
      "--------------------------------------------...--T CTiny\n",
      "--------------------------------------------...GCC Tsmall\n",
      "--------------------------------------------...--- CAfrican\n",
      "--------------------------------------------...--A TGreek\n",
      "--------------------------------------------...--A TGreen\n",
      "--------------------------------------------...--A TDummy\n",
      "ATGACCCACCAACTACGAAAATCCCACCCACTTTTAAAACTAGT...--T CNile\n",
      "--------------------------------------------...--- CMisissipi\n"
     ]
    },
    {
     "name": "stderr",
     "output_type": "stream",
     "text": [
      "00:01 159Mb   100.0% Refining\n"
     ]
    }
   ],
   "source": [
    "#Muscle\n",
    "subprocess.run([\"muscle\", \"-align\", \"sequences/turtles_cocodriles_sequences.fasta\", \"-output\", \"alignments/turtles_cocodriles_aligned_muscle.aln\"])\n",
    "\n",
    "alignment_turtles_cocodriles_muscle = AlignIO.read(\"alignments/turtles_cocodriles_aligned_muscle.aln\", \"fasta\")\n",
    "print(alignment_turtles_cocodriles_muscle)"
   ]
  },
  {
   "cell_type": "code",
   "execution_count": 15,
   "id": "361a75e6",
   "metadata": {},
   "outputs": [
    {
     "name": "stdout",
     "output_type": "stream",
     "text": [
      "Alignment with 8 rows and 1156 columns\n",
      "--------------------------------------------...--- TGreen\n",
      "--------------------------------------------...--- TDummy\n",
      "--------------------------------------------...--- Tsmall\n",
      "--------------------------------------------...--- TGreek\n",
      "ATGACCCACCAACTACGAAAATCCCACCCACTTTTAAAACTAGT...--- CNile\n",
      "--------------------------------------------...--- CMisissipi\n",
      "--------------------------------------------...ACT CTiny\n",
      "--------------------------------------------...--- CAfrican\n"
     ]
    }
   ],
   "source": [
    "#Clustal\n",
    "subprocess.run([\"clustalo\", \"-i\", \"sequences/turtles_cocodriles_sequences.fasta\", \"-o\", \n",
    "                \"alignments/turtles_cocodriles_aligned_clustal.aln\", \"--force\", \"--outfmt=clu\"])\n",
    "\n",
    "alignment_turtles_cocodriles_clustal = AlignIO.read(\"alignments/turtles_cocodriles_aligned_clustal.aln\", \"clustal\")\n",
    "print(alignment_turtles_cocodriles_clustal)"
   ]
  },
  {
   "cell_type": "markdown",
   "id": "8d10284a",
   "metadata": {},
   "source": [
    "#### Lizards and birds\n",
    "**Anlysis of the Lizards and birds data** "
   ]
  },
  {
   "cell_type": "code",
   "execution_count": 16,
   "id": "da95e676",
   "metadata": {},
   "outputs": [
    {
     "data": {
      "text/plain": [
       "8"
      ]
     },
     "execution_count": 16,
     "metadata": {},
     "output_type": "execute_result"
    }
   ],
   "source": [
    "#First we put both files of sequences lizards and birds on a single one file\n",
    "lizards_birds = list(SeqIO.parse(\"sequences/lizards.fasta\", \"fasta\")) + \\\n",
    "                list(SeqIO.parse(\"sequences/birds.fasta\", \"fasta\"))\n",
    "SeqIO.write(lizards_birds, \"sequences/lizards_birds_sequences.fasta\", \"fasta\")"
   ]
  },
  {
   "cell_type": "markdown",
   "id": "c51c6898",
   "metadata": {},
   "source": [
    "**Alignment**"
   ]
  },
  {
   "cell_type": "code",
   "execution_count": 17,
   "id": "2a4a1a98",
   "metadata": {},
   "outputs": [
    {
     "name": "stdout",
     "output_type": "stream",
     "text": [
      "Alignment with 8 rows and 18968 columns\n",
      "--------------------------------------------...--- LOccidental\n",
      "--------------------------------------------...--- LKomodo\n",
      "GTCATTGTAGCTTACCAC-CAAAGCATAGTGCTGAAGACACTAA...--- LBearded\n",
      "GTTATTGTAGCTTACAAATTAAAGCACGGCACTGAAAATGCCAC...CGT LAnolis\n",
      "--------------------------------------------...--- BRooster\n",
      "--------------------------------------------...--- BZebra\n",
      "--------------------------------------------...--- BPigeon\n",
      "--------------------------------------------...--- BOstrich\n"
     ]
    }
   ],
   "source": [
    "#Clustal\n",
    "subprocess.run([\"clustalo\", \"-i\", \"sequences/lizards_birds_sequences.fasta\", \"-o\", \n",
    "                \"alignments/lizards_birds_aligned_clustal.aln\", \"--force\", \"--outfmt=clu\"])\n",
    "\n",
    "alignment_lizards_birds_clustal = AlignIO.read(\"alignments/lizards_birds_aligned_clustal.aln\", \"clustal\")\n",
    "print(alignment_lizards_birds_clustal)"
   ]
  },
  {
   "cell_type": "code",
   "execution_count": 18,
   "id": "6ea23c06",
   "metadata": {},
   "outputs": [
    {
     "name": "stderr",
     "output_type": "stream",
     "text": [
      "\n",
      "muscle 5.3.osxarm64 [6d49a2f]  8.6Gb RAM, 8 cores\n",
      "Built Nov 11 2024 03:02:22\n",
      "(C) Copyright 2004-2021 Robert C. Edgar.\n",
      "https://drive5.com\n",
      "\n",
      "[align sequences/lizards_birds_sequences.fasta]\n",
      "Input: 8 seqs, avg length 5740, max 17223, min 287\n",
      "\n",
      "00:00 12Mb    100.0% Derep 8 uniques, 0 dupes\n",
      "00:00 12Mb   CPU has 8 cores, running 8 threads\n",
      "01:33 45Mb    100.0% Calc posteriors\n",
      "01:35 107Mb   100.0% UPGMA5         \n",
      "01:35 335Mb   100.0% Consistency (1/2)\n",
      "01:35 362Mb   100.0% Consistency (2/2)\n",
      "02:13 448Mb   100.0% Refining         \n"
     ]
    },
    {
     "name": "stdout",
     "output_type": "stream",
     "text": [
      "Alignment with 8 rows and 18916 columns\n",
      "GTCATTGTAGCTTACC-ACCAAAGCATAGTGCTGAAGACACTAA...CCC LBearded\n",
      "GTTATTGTAGCTTACAAATTAAAGCACGGCACTGAAAATGCCAC...CGT LAnolis\n",
      "TTGT----GGC---------------------------------...ATA LKomodo\n",
      "--------------------------------------------...--C BPigeon\n",
      "--------------------------------------------...AGC BOstrich\n",
      "--------------------------------------------...AGC BZebra\n",
      "TTGT----AAA---------------------------------...AAA LOccidental\n",
      "--------------------------------------------...-CC BRooster\n"
     ]
    }
   ],
   "source": [
    "#Muscle\n",
    "subprocess.run([\"muscle\", \"-align\", \"sequences/lizards_birds_sequences.fasta\", \"-output\", \"alignments/llizards_birds_aligned_muscle.aln\"])\n",
    "\n",
    "alignment_lizards_birds_muscle = AlignIO.read(\"alignments/llizards_birds_aligned_muscle.aln\", \"fasta\")\n",
    "print(alignment_lizards_birds_muscle)"
   ]
  },
  {
   "cell_type": "markdown",
   "id": "2459f950",
   "metadata": {},
   "source": [
    "## Building trees"
   ]
  },
  {
   "cell_type": "code",
   "execution_count": 19,
   "id": "9af5344d",
   "metadata": {},
   "outputs": [],
   "source": [
    "from utils import jukes_cantor_distance, kimura_distance, compute_distance_matrix"
   ]
  },
  {
   "cell_type": "markdown",
   "id": "2d1f2c63",
   "metadata": {},
   "source": [
    "### Building the distance matrixs"
   ]
  },
  {
   "cell_type": "markdown",
   "id": "a69f0d10",
   "metadata": {},
   "source": [
    "#### All"
   ]
  },
  {
   "cell_type": "code",
   "execution_count": 20,
   "id": "0e86b450",
   "metadata": {},
   "outputs": [],
   "source": [
    "#Kimura\n",
    "ids, matrix_all_clustal_kimura = compute_distance_matrix(all_alignment_clustal, kimura_distance)\n",
    "ids, matrix_all_muscle_kimura = compute_distance_matrix(all_alignment_muscle, kimura_distance)\n",
    "\n",
    "#Jukes cantor\n",
    "ids, matrix_all_clustal_jc = compute_distance_matrix(all_alignment_clustal, jukes_cantor_distance)\n",
    "ids, matrix_all_muscle_jc = compute_distance_matrix(all_alignment_muscle, jukes_cantor_distance)\n"
   ]
  },
  {
   "cell_type": "markdown",
   "id": "e70c5674",
   "metadata": {},
   "source": [
    "#### Turtles and Cocodriles"
   ]
  },
  {
   "cell_type": "code",
   "execution_count": 21,
   "id": "19d68a17",
   "metadata": {},
   "outputs": [],
   "source": [
    "#Kimura\n",
    "ids, matrix_turtles_cocodriles_clustal_kimura = compute_distance_matrix(alignment_turtles_cocodriles_clustal, kimura_distance)\n",
    "ids, matrix_turtles_cocodriles_muscle_kimura = compute_distance_matrix(alignment_turtles_cocodriles_muscle, kimura_distance)\n",
    "\n",
    "#Jukes cantor\n",
    "ids, matrix_turtles_cocodriles_clustal_jc = compute_distance_matrix(alignment_turtles_cocodriles_clustal, jukes_cantor_distance)\n",
    "ids, matrix_turtles_cocodriles_muscle_jc = compute_distance_matrix(alignment_turtles_cocodriles_muscle, jukes_cantor_distance)\n"
   ]
  },
  {
   "cell_type": "markdown",
   "id": "b1174f3a",
   "metadata": {},
   "source": [
    "#### Lizards and birds"
   ]
  },
  {
   "cell_type": "code",
   "execution_count": 22,
   "id": "c7f968e4",
   "metadata": {},
   "outputs": [],
   "source": [
    "#Kimura\n",
    "ids, matrix_lizards_birds_clustal_kimura = compute_distance_matrix(alignment_lizards_birds_clustal, kimura_distance)\n",
    "ids, matrix_lizards_birds_muscle_kimura = compute_distance_matrix(alignment_lizards_birds_muscle, kimura_distance)\n",
    "\n",
    "#Jukes cantor\n",
    "ids, matrix_lizards_birds_clustal_jc = compute_distance_matrix(alignment_lizards_birds_clustal, jukes_cantor_distance)\n",
    "ids, matrix_lizards_birds_muscle_jc = compute_distance_matrix(alignment_lizards_birds_muscle, jukes_cantor_distance)\n"
   ]
  },
  {
   "cell_type": "markdown",
   "id": "aaf57844",
   "metadata": {},
   "source": [
    "### In ```biopython```"
   ]
  },
  {
   "cell_type": "code",
   "execution_count": 23,
   "id": "367c5390",
   "metadata": {},
   "outputs": [],
   "source": [
    "from utils import matrix_to_biopython"
   ]
  },
  {
   "cell_type": "code",
   "execution_count": 24,
   "id": "ad2811bd",
   "metadata": {},
   "outputs": [],
   "source": [
    "\n",
    "ids_turtle_cocodriles = [\"TGreen\", \"TDummy\", \"Tsmall\", \"TGreek\", \"CNile\", \"CMisissipi\", \"CTiny\", \"CAfrican\"]\n",
    "ids_all = [\"TGreen\", \"TDummy\", \"Tsmall\", \"TGreek\", \"LOccidental\", \"LKomodo\", \"LBearded\", \"LAnolis\", \"CNile\", \"CMisissipi\", \"CTiny\", \"CAfrican\", \"BRooster\", \"BZebra\", \"BPigeon\", \"BOstrich\"]\n",
    "ids_lizards_birds = [\"LOccidental\", \"LKomodo\", \"LBearded\", \"LAnolis\", \"BRooster\", \"BZebra\", \"BPigeon\", \"BOstrich\"]\n",
    "\n",
    "\n",
    "try:\n",
    "    #MATRIX ALL\n",
    "    #Kimura\n",
    "    matrix_all_clustal_kimura_bio = matrix_to_biopython(ids_all, matrix_all_clustal_kimura)\n",
    "    matrix_all_muscle_kimura_bio = matrix_to_biopython(ids_all, matrix_all_muscle_kimura)\n",
    "\n",
    "    #Jukes-Cantor\n",
    "    matrix_all_clustal_jc_bio = matrix_to_biopython(ids_all, matrix_all_clustal_jc)\n",
    "    matrix_all_muscle_jc_bio = matrix_to_biopython(ids_all, matrix_all_muscle_jc)\n",
    "\n",
    "    \n",
    "    #MATRIX TURTLES-COCODRILES\n",
    "    #Kimura\n",
    "    matrix_turtles_cocodriles_clustal_kimura_bio = matrix_to_biopython(ids_turtle_cocodriles, matrix_turtles_cocodriles_clustal_kimura)\n",
    "    matrix_turtles_cocodriles_muscle_kimura_bio = matrix_to_biopython(ids_turtle_cocodriles, matrix_turtles_cocodriles_clustal_kimura)\n",
    "    \n",
    "    #Jukes-Cantor\n",
    "    matrix_turtles_cocodriles_clustal_jc_bio = matrix_to_biopython(ids_turtle_cocodriles, matrix_turtles_cocodriles_clustal_jc)\n",
    "    matrix_turtles_cocodriles_muscle_jc_bio = matrix_to_biopython(ids_turtle_cocodriles, matrix_turtles_cocodriles_muscle_jc)\n",
    "\n",
    "    #MATRIX LIZARDS-BIRDS\n",
    "    matrix_lizards_birds_clustal_kimura_bio = matrix_to_biopython(ids_lizards_birds, matrix_lizards_birds_clustal_kimura)\n",
    "    matrix_lizards_birds_muscle_kimura_bio = matrix_to_biopython(ids_lizards_birds, matrix_lizards_birds_muscle_kimura)\n",
    "\n",
    "    #Jukes-Cantor\n",
    "    matrix_lizards_birds_clustal_jc_bio = matrix_to_biopython(ids_lizards_birds, matrix_lizards_birds_clustal_jc)\n",
    "    matrix_lizards_birds_muscle_jc_bio = matrix_to_biopython(ids_lizards_birds, matrix_lizards_birds_muscle_jc)\n",
    "\n",
    "except ValueError as e:\n",
    "    print(e)\n",
    "\n"
   ]
  },
  {
   "cell_type": "markdown",
   "id": "b4da8ac6",
   "metadata": {},
   "source": [
    "### Identity"
   ]
  },
  {
   "cell_type": "code",
   "execution_count": 25,
   "id": "db4c0409",
   "metadata": {},
   "outputs": [],
   "source": [
    "#MATRIX IDENTITY ALL\n",
    "calculator = DistanceCalculator('identity')\n",
    "matrix_id_all_clustal = calculator.get_distance(all_alignment_clustal)\n",
    "matrix_id_all_muscle = calculator.get_distance(all_alignment_muscle)\n",
    "\n",
    "#MATRIX IDENTITY TURTLES-COCODRILES\n",
    "calculator = DistanceCalculator('identity')\n",
    "matrix_id_turtles_cocodriles_clustal = calculator.get_distance(alignment_turtles_cocodriles_clustal)\n",
    "matrix_id_turtles_cocodriles_muscle = calculator.get_distance(alignment_turtles_cocodriles_muscle)\n",
    "\n",
    "#MATRIX IDENTITY LIZARDS-BIRDS\n",
    "calculator = DistanceCalculator('identity')\n",
    "matrix_id_lizards_birds_clustal = calculator.get_distance(alignment_lizards_birds_clustal)\n",
    "matrix_id_lizards_birds_muscle = calculator.get_distance(alignment_lizards_birds_muscle)"
   ]
  },
  {
   "cell_type": "code",
   "execution_count": 26,
   "id": "c710eda1",
   "metadata": {},
   "outputs": [],
   "source": [
    "from utils import clean_distance_matrix"
   ]
  },
  {
   "cell_type": "markdown",
   "id": "07887e73",
   "metadata": {},
   "source": [
    "#### Cleanning matrix"
   ]
  },
  {
   "cell_type": "code",
   "execution_count": 28,
   "id": "72428997",
   "metadata": {},
   "outputs": [],
   "source": [
    "#MATRIX ALL\n",
    "#Kimura\n",
    "matrix_all_clustal_kimura_bio_clean = clean_distance_matrix(matrix_all_clustal_kimura_bio)\n",
    "matrix_all_muscle_kimura_bio_clean = clean_distance_matrix(matrix_all_muscle_kimura_bio)\n",
    "\n",
    "#Jukes-Cantor\n",
    "matrix_all_clustal_jc_bio_clean = clean_distance_matrix(matrix_all_clustal_jc_bio)\n",
    "matrix_all_muscle_jc_bio_clean = clean_distance_matrix(matrix_all_muscle_jc_bio)\n",
    "\n",
    "#Identity\n",
    "matrix_id_all_clustal_clean = clean_distance_matrix(matrix_id_all_clustal)\n",
    "matrix_id_all_muscle_clean = clean_distance_matrix(matrix_id_all_muscle)\n",
    "\n",
    "\n",
    "#MATRIX TURTLES-COCODRILES\n",
    "#Kimura\n",
    "matrix_turtles_cocodriles_clustal_kimura_bio_clean = clean_distance_matrix(matrix_turtles_cocodriles_clustal_kimura_bio)\n",
    "matrix_turtles_cocodriles_muscle_kimura_bio_clean = clean_distance_matrix(matrix_turtles_cocodriles_muscle_kimura_bio)\n",
    "\n",
    "#Jukes-Cantor\n",
    "matrix_turtles_cocodriles_clustal_jc_bio_clean = clean_distance_matrix(matrix_turtles_cocodriles_clustal_jc_bio)\n",
    "matrix_turtles_cocodriles_muscle_jc_bio_clean = clean_distance_matrix(matrix_turtles_cocodriles_muscle_jc_bio)\n",
    "\n",
    "#Identity\n",
    "matrix_id_turtles_cocodriles_clustal_clean = clean_distance_matrix(matrix_id_turtles_cocodriles_clustal)\n",
    "matrix_id_turtles_cocodriles_muscle_clean = clean_distance_matrix(matrix_id_turtles_cocodriles_muscle)\n",
    "\n",
    "#MATRIX LIZARDS-BIRDS\n",
    "matrix_lizards_birds_clustal_kimura_bio_clean = clean_distance_matrix(matrix_lizards_birds_clustal_kimura_bio)\n",
    "matrix_lizards_birds_muscle_kimura_bio_clean = clean_distance_matrix(matrix_lizards_birds_muscle_kimura_bio)\n",
    "\n",
    "#Jukes-Cantor\n",
    "matrix_lizards_birds_clustal_jc_bio_clean = clean_distance_matrix(matrix_lizards_birds_clustal_jc_bio)\n",
    "matrix_lizards_birds_muscle_jc_bio_clean = clean_distance_matrix(matrix_lizards_birds_muscle_jc_bio)\n",
    "\n",
    "#Identity\n",
    "matrix_id_lizards_birds_clustal_clean = clean_distance_matrix(matrix_id_lizards_birds_clustal)\n",
    "matrix_id_lizards_birds_muscle_clean = clean_distance_matrix(matrix_id_lizards_birds_muscle)\n"
   ]
  },
  {
   "cell_type": "markdown",
   "id": "6d1397dd",
   "metadata": {},
   "source": [
    "### Building the trees"
   ]
  },
  {
   "cell_type": "markdown",
   "id": "6e4fad5b",
   "metadata": {},
   "source": [
    "#### All"
   ]
  },
  {
   "cell_type": "code",
   "execution_count": 29,
   "id": "d595d6f0",
   "metadata": {},
   "outputs": [],
   "source": [
    "constructor = DistanceTreeConstructor()\n",
    "\n",
    "#UPGMA trees\n",
    "#Kimura\n",
    "tree_all_clustal_kimura_upgma = constructor.upgma(matrix_all_clustal_kimura_bio)\n",
    "tree_all_muscle_kimura_upgma = constructor.upgma(matrix_all_muscle_kimura_bio)\n",
    "#Jukes-cantor\n",
    "tree_all_clustal_jc_upgma = constructor.upgma(matrix_all_clustal_jc_bio)\n",
    "tree_all_muscle_jc_upgma = constructor.upgma(matrix_all_muscle_jc_bio)\n",
    "#Identity\n",
    "tree_all_clustal_id_upgma = constructor.upgma(matrix_id_all_clustal)\n",
    "tree_all_muscle_id_upgma = constructor.upgma(matrix_id_all_muscle)\n",
    "\n",
    "#Neighboor Joinning trees\n",
    "#Kimura\n",
    "tree_all_clustal_kimura_nj = constructor.nj(matrix_all_clustal_kimura_bio)\n",
    "tree_all_muscle_kimura_nj = constructor.nj(matrix_all_muscle_kimura_bio)\n",
    "#Jukes-cantor\n",
    "tree_all_clustal_jc_nj = constructor.nj(matrix_all_clustal_jc_bio)\n",
    "tree_all_muscle_jc_nj = constructor.nj(matrix_all_muscle_jc_bio)\n",
    "#Identity\n",
    "tree_all_clustal_id_nj = constructor.nj(matrix_id_all_clustal)\n",
    "tree_all_muscle_id_nj = constructor.nj(matrix_id_all_muscle)"
   ]
  },
  {
   "cell_type": "markdown",
   "id": "c41ddcfe",
   "metadata": {},
   "source": [
    "#### Turtles-Cocodriles"
   ]
  },
  {
   "cell_type": "code",
   "execution_count": 30,
   "id": "754cf543",
   "metadata": {},
   "outputs": [],
   "source": [
    "#UPGMA trees\n",
    "#Kimura\n",
    "tree_turtles_cocodriles_clustal_kimura_upgma = constructor.upgma(matrix_turtles_cocodriles_clustal_kimura_bio)\n",
    "tree_turtles_cocodriles_muscle_kimura_upgma = constructor.upgma(matrix_turtles_cocodriles_muscle_kimura_bio)\n",
    "#Jukes-cantor\n",
    "tree_turtles_cocodriles_clustal_jc_upgma = constructor.upgma(matrix_turtles_cocodriles_clustal_jc_bio)\n",
    "tree_turtles_cocodriles_muscle_jc_upgma = constructor.upgma(matrix_turtles_cocodriles_muscle_jc_bio)\n",
    "#Identity\n",
    "tree_turtles_cocodriles_clustal_id_upgma = constructor.upgma(matrix_id_turtles_cocodriles_clustal)\n",
    "tree_turtles_cocodriles_muscle_id_upgma = constructor.upgma(matrix_id_turtles_cocodriles_muscle)\n",
    "\n",
    "#Neighboor Joinning trees\n",
    "#Kimura\n",
    "tree_turtles_cocodriles_clustal_kimura_nj = constructor.nj(matrix_turtles_cocodriles_clustal_kimura_bio)\n",
    "tree_turtles_cocodriles_muscle_kimura_nj = constructor.nj(matrix_turtles_cocodriles_muscle_kimura_bio)\n",
    "#Jukes-cantor\n",
    "tree_turtles_cocodriles_clustal_jc_nj = constructor.nj(matrix_turtles_cocodriles_clustal_jc_bio)\n",
    "tree_turtles_cocodriles_muscle_jc_nj = constructor.nj(matrix_turtles_cocodriles_muscle_jc_bio)\n",
    "#Identity\n",
    "tree_turtles_cocodriles_clustal_id_nj = constructor.nj(matrix_id_turtles_cocodriles_clustal)\n",
    "tree_turtles_cocodriles_muscle_id_nj = constructor.nj(matrix_id_turtles_cocodriles_muscle)"
   ]
  },
  {
   "cell_type": "markdown",
   "id": "d7452bd4",
   "metadata": {},
   "source": [
    "#### Lizards-Birds"
   ]
  },
  {
   "cell_type": "code",
   "execution_count": 31,
   "id": "b4d4d37c",
   "metadata": {},
   "outputs": [],
   "source": [
    "#UPGMA trees\n",
    "#Kimura\n",
    "tree_lizards_birds_clustal_kimura_upgma = constructor.upgma(matrix_lizards_birds_clustal_kimura_bio)\n",
    "tree_lizards_birds_muscle_kimura_upgma = constructor.upgma(matrix_lizards_birds_muscle_kimura_bio)\n",
    "#Jukes-cantor\n",
    "tree_lizards_birds_clustal_jc_upgma = constructor.upgma(matrix_lizards_birds_clustal_jc_bio)\n",
    "tree_lizards_birds_muscle_jc_upgma = constructor.upgma(matrix_lizards_birds_muscle_jc_bio)\n",
    "#Identity\n",
    "tree_lizards_birds_clustal_id_upgma = constructor.upgma(matrix_id_lizards_birds_clustal)\n",
    "tree_lizards_birds_muscle_id_upgma = constructor.upgma(matrix_id_lizards_birds_muscle)\n",
    "\n",
    "#Neighboor Joinning trees\n",
    "#Kimura\n",
    "tree_lizards_birds_clustal_kimura_nj = constructor.nj(matrix_lizards_birds_clustal_kimura_bio)\n",
    "tree_lizards_birds_muscle_kimura_nj = constructor.nj(matrix_lizards_birds_muscle_kimura_bio)\n",
    "#Jukes-cantor\n",
    "tree_lizards_birds_clustal_jc_nj = constructor.nj(matrix_lizards_birds_clustal_jc_bio)\n",
    "tree_lizards_birds_muscle_jc_nj = constructor.nj(matrix_lizards_birds_muscle_jc_bio)\n",
    "#Identity\n",
    "tree_lizards_birds_clustal_id_nj = constructor.nj(matrix_id_lizards_birds_clustal)\n",
    "tree_lizards_birds_muscle_id_nj = constructor.nj(matrix_id_lizards_birds_muscle)"
   ]
  },
  {
   "cell_type": "markdown",
   "id": "8408cc65",
   "metadata": {},
   "source": [
    "### It's ready"
   ]
  },
  {
   "cell_type": "code",
   "execution_count": 33,
   "id": "a667f472",
   "metadata": {},
   "outputs": [
    {
     "name": "stdout",
     "output_type": "stream",
     "text": [
      "Collecting matplotlib\n",
      "  Downloading matplotlib-3.10.3-cp311-cp311-macosx_11_0_arm64.whl.metadata (11 kB)\n",
      "Collecting contourpy>=1.0.1 (from matplotlib)\n",
      "  Downloading contourpy-1.3.2-cp311-cp311-macosx_11_0_arm64.whl.metadata (5.5 kB)\n",
      "Collecting cycler>=0.10 (from matplotlib)\n",
      "  Using cached cycler-0.12.1-py3-none-any.whl.metadata (3.8 kB)\n",
      "Collecting fonttools>=4.22.0 (from matplotlib)\n",
      "  Downloading fonttools-4.58.4-cp311-cp311-macosx_10_9_universal2.whl.metadata (106 kB)\n",
      "Collecting kiwisolver>=1.3.1 (from matplotlib)\n",
      "  Downloading kiwisolver-1.4.8-cp311-cp311-macosx_11_0_arm64.whl.metadata (6.2 kB)\n",
      "Requirement already satisfied: numpy>=1.23 in /Users/analaura/.pyenv/versions/3.11.9/envs/aphylogeo-env/lib/python3.11/site-packages (from matplotlib) (1.26.1)\n",
      "Requirement already satisfied: packaging>=20.0 in /Users/analaura/.pyenv/versions/3.11.9/envs/aphylogeo-env/lib/python3.11/site-packages (from matplotlib) (23.2)\n",
      "Collecting pillow>=8 (from matplotlib)\n",
      "  Downloading pillow-11.2.1-cp311-cp311-macosx_11_0_arm64.whl.metadata (8.9 kB)\n",
      "Collecting pyparsing>=2.3.1 (from matplotlib)\n",
      "  Using cached pyparsing-3.2.3-py3-none-any.whl.metadata (5.0 kB)\n",
      "Requirement already satisfied: python-dateutil>=2.7 in /Users/analaura/.pyenv/versions/3.11.9/envs/aphylogeo-env/lib/python3.11/site-packages (from matplotlib) (2.8.2)\n",
      "Requirement already satisfied: six>=1.5 in /Users/analaura/.pyenv/versions/3.11.9/envs/aphylogeo-env/lib/python3.11/site-packages (from python-dateutil>=2.7->matplotlib) (1.16.0)\n",
      "Downloading matplotlib-3.10.3-cp311-cp311-macosx_11_0_arm64.whl (8.1 MB)\n",
      "\u001b[2K   \u001b[90m━━━━━━━━━━━━━━━━━━━━━━━━━━━━━━━━━━━━━━━━\u001b[0m \u001b[32m8.1/8.1 MB\u001b[0m \u001b[31m31.7 MB/s\u001b[0m eta \u001b[36m0:00:00\u001b[0ma \u001b[36m0:00:01\u001b[0m\n",
      "\u001b[?25hDownloading contourpy-1.3.2-cp311-cp311-macosx_11_0_arm64.whl (254 kB)\n",
      "Using cached cycler-0.12.1-py3-none-any.whl (8.3 kB)\n",
      "Downloading fonttools-4.58.4-cp311-cp311-macosx_10_9_universal2.whl (2.8 MB)\n",
      "\u001b[2K   \u001b[90m━━━━━━━━━━━━━━━━━━━━━━━━━━━━━━━━━━━━━━━━\u001b[0m \u001b[32m2.8/2.8 MB\u001b[0m \u001b[31m33.6 MB/s\u001b[0m eta \u001b[36m0:00:00\u001b[0m\n",
      "\u001b[?25hDownloading kiwisolver-1.4.8-cp311-cp311-macosx_11_0_arm64.whl (65 kB)\n",
      "Downloading pillow-11.2.1-cp311-cp311-macosx_11_0_arm64.whl (3.0 MB)\n",
      "\u001b[2K   \u001b[90m━━━━━━━━━━━━━━━━━━━━━━━━━━━━━━━━━━━━━━━━\u001b[0m \u001b[32m3.0/3.0 MB\u001b[0m \u001b[31m29.3 MB/s\u001b[0m eta \u001b[36m0:00:00\u001b[0m\n",
      "\u001b[?25hUsing cached pyparsing-3.2.3-py3-none-any.whl (111 kB)\n",
      "Installing collected packages: pyparsing, pillow, kiwisolver, fonttools, cycler, contourpy, matplotlib\n",
      "\u001b[2K   \u001b[90m━━━━━━━━━━━━━━━━━━━━━━━━━━━━━━━━━━━━━━━━\u001b[0m \u001b[32m7/7\u001b[0m [matplotlib]7\u001b[0m [matplotlib]\n",
      "\u001b[1A\u001b[2KSuccessfully installed contourpy-1.3.2 cycler-0.12.1 fonttools-4.58.4 kiwisolver-1.4.8 matplotlib-3.10.3 pillow-11.2.1 pyparsing-3.2.3\n"
     ]
    }
   ],
   "source": [
    "!pip install matplotlib"
   ]
  },
  {
   "cell_type": "markdown",
   "id": "5b667ae2",
   "metadata": {},
   "source": [
    "#### Now you can draw, write and compare the trees"
   ]
  },
  {
   "cell_type": "code",
   "execution_count": 45,
   "id": "d8b82b71",
   "metadata": {},
   "outputs": [
    {
     "data": {
      "image/png": "[encoded data removed]",
      "text/plain": [
       "<Figure size 640x480 with 1 Axes>"
      ]
     },
     "metadata": {},
     "output_type": "display_data"
    }
   ],
   "source": [
    "Phylo.draw(tree_all_clustal_kimura_upgma)"
   ]
  },
  {
   "cell_type": "code",
   "execution_count": 46,
   "id": "908eb6f8",
   "metadata": {},
   "outputs": [
    {
     "data": {
      "image/png": "[encoded data removed]",
      "text/plain": [
       "<Figure size 640x480 with 1 Axes>"
      ]
     },
     "metadata": {},
     "output_type": "display_data"
    }
   ],
   "source": [
    "Phylo.draw(tree_all_clustal_jc_nj)"
   ]
  },
  {
   "cell_type": "markdown",
   "id": "764f4755",
   "metadata": {},
   "source": [
    "##### You can save them into the img folder"
   ]
  },
  {
   "cell_type": "code",
   "execution_count": 42,
   "id": "eb082ba8",
   "metadata": {},
   "outputs": [],
   "source": [
    "import matplotlib.pyplot as plt\n",
    "from Bio import Phylo\n",
    "\n",
    "#Draw the tree\n",
    "Phylo.draw(tree_all_clustal_kimura_upgma, do_show=False)\n",
    "\n",
    "# Sve the figure in the img folder\n",
    "plt.savefig('img/tree_all_clustal_kimura_upgma.png')\n",
    "plt.close()"
   ]
  },
  {
   "cell_type": "code",
   "execution_count": 44,
   "id": "d5cc79de",
   "metadata": {},
   "outputs": [],
   "source": [
    "#Draw the tree\n",
    "Phylo.draw(tree_all_clustal_jc_nj, do_show=False)\n",
    "\n",
    "# Sve the figure in the img folder\n",
    "plt.savefig('img/tree_all_clustal_jc_nj.png')\n",
    "plt.close()"
   ]
  },
  {
   "cell_type": "markdown",
   "id": "179bca04",
   "metadata": {},
   "source": [
    "#### But before to compare them let's save them into newick format"
   ]
  },
  {
   "cell_type": "code",
   "execution_count": 49,
   "id": "837f14ac",
   "metadata": {},
   "outputs": [
    {
     "data": {
      "text/plain": [
       "1"
      ]
     },
     "execution_count": 49,
     "metadata": {},
     "output_type": "execute_result"
    }
   ],
   "source": [
    "#ALL\n",
    "Phylo.write(tree_all_clustal_kimura_upgma, \"trees/all/tree_all_clustal_kimura_upgma.nwk\", \"newick\")\n",
    "Phylo.write(tree_all_muscle_kimura_upgma, \"trees/all/tree_all_muscle_kimura_upgma.nwk\", \"newick\")\n",
    "\n",
    "Phylo.write(tree_all_clustal_jc_upgma, \"trees/all/tree_all_clustal_jc_upgma.nwk\", \"newick\")\n",
    "Phylo.write(tree_all_muscle_jc_upgma, \"trees/all/tree_all_muscle_jc_upgma.nwk\", \"newick\")\n",
    "\n",
    "Phylo.write(tree_all_clustal_id_upgma, \"trees/all/tree_all_clustal_id_upgma.nwk\", \"newick\")\n",
    "Phylo.write(tree_all_muscle_id_upgma, \"trees/all/tree_all_muscle_id_upgma.nwk\", \"newick\")\n",
    "\n",
    "\n",
    "Phylo.write(tree_all_clustal_kimura_nj, \"trees/all/tree_all_clustal_kimura_nj.nwk\", \"newick\")\n",
    "Phylo.write(tree_all_muscle_kimura_nj, \"trees/all/tree_all_muscle_kimura_nj.nwk\", \"newick\")\n",
    "\n",
    "Phylo.write(tree_all_clustal_jc_nj, \"trees/all/tree_all_clustal_jc_nj.nwk\", \"newick\")\n",
    "Phylo.write(tree_all_muscle_jc_nj, \"trees/all/tree_all_muscle_jc_nj.nwk\", \"newick\")\n",
    "\n",
    "Phylo.write(tree_all_clustal_id_nj, \"trees/all/tree_all_clustal_id_nj.nwk\", \"newick\")\n",
    "Phylo.write(tree_all_muscle_id_nj, \"trees/all/tree_all_muscle_id_nj.nwk\", \"newick\")"
   ]
  },
  {
   "cell_type": "code",
   "execution_count": 52,
   "id": "f4e821f6",
   "metadata": {},
   "outputs": [
    {
     "data": {
      "text/plain": [
       "1"
      ]
     },
     "execution_count": 52,
     "metadata": {},
     "output_type": "execute_result"
    }
   ],
   "source": [
    "#TURTLES-CROCODRILES\n",
    "Phylo.write(tree_turtles_cocodriles_clustal_kimura_upgma, \"trees/turtles_crocodiles/tree_turtles_cocodriles_clustal_kimura_upgma.nwk\", \"newick\")\n",
    "Phylo.write(tree_turtles_cocodriles_muscle_kimura_upgma, \"trees/turtles_crocodiles/tree_turtles_cocodriles_muscle_kimura_upgma.nwk\", \"newick\")\n",
    "\n",
    "Phylo.write(tree_turtles_cocodriles_clustal_jc_upgma, \"trees/turtles_crocodiles/tree_turtles_cocodriles_clustal_jc_upgma.nwk\", \"newick\")\n",
    "Phylo.write(tree_turtles_cocodriles_muscle_jc_upgma, \"trees/turtles_crocodiles/tree_turtles_cocodriles_muscle_jc_upgma.nwk\", \"newick\")\n",
    "\n",
    "Phylo.write(tree_turtles_cocodriles_clustal_id_upgma, \"trees/turtles_crocodiles/tree_turtles_cocodriles_clustal_id_upgma.nwk\", \"newick\")\n",
    "Phylo.write(tree_turtles_cocodriles_muscle_id_upgma, \"trees/turtles_crocodiles/tree_turtles_cocodriles_muscle_id_upgma.nwk\", \"newick\")\n",
    "\n",
    "\n",
    "Phylo.write(tree_turtles_cocodriles_clustal_kimura_nj, \"trees/turtles_crocodiles/tree_turtles_cocodriles_clustal_kimura_nj.nwk\", \"newick\")\n",
    "Phylo.write(tree_turtles_cocodriles_muscle_kimura_nj, \"trees/turtles_crocodiles/tree_turtles_cocodriles_muscle_kimura_nj.nwk\", \"newick\")\n",
    "\n",
    "Phylo.write(tree_turtles_cocodriles_clustal_jc_nj, \"trees/turtles_crocodiles/tree_turtles_cocodriles_clustal_jc_nj.nwk\", \"newick\")\n",
    "Phylo.write(tree_turtles_cocodriles_muscle_jc_nj, \"trees/turtles_crocodiles/tree_turtles_cocodriles_muscle_jc_nj.nwk\", \"newick\")\n",
    "\n",
    "Phylo.write(tree_turtles_cocodriles_clustal_id_nj, \"trees/turtles_crocodiles/tree_turtles_cocodriles_clustal_id_nj.nwk\", \"newick\")\n",
    "Phylo.write(tree_turtles_cocodriles_muscle_id_nj, \"trees/turtles_crocodiles/tree_turtles_cocodriles_muscle_id_nj.nwk\", \"newick\")"
   ]
  },
  {
   "cell_type": "code",
   "execution_count": 53,
   "id": "cf8f5360",
   "metadata": {},
   "outputs": [
    {
     "data": {
      "text/plain": [
       "1"
      ]
     },
     "execution_count": 53,
     "metadata": {},
     "output_type": "execute_result"
    }
   ],
   "source": [
    "#LIZARDS-BIRDS\n",
    "Phylo.write(tree_lizards_birds_clustal_kimura_upgma, \"trees/lizards_birds/tree_lizards_birds_clustal_kimura_upgma.nwk\", \"newick\")\n",
    "Phylo.write(tree_lizards_birds_muscle_kimura_upgma, \"trees/lizards_birds/tree_lizards_birds_muscle_kimura_upgma.nwk\", \"newick\")\n",
    "\n",
    "Phylo.write(tree_lizards_birds_clustal_jc_upgma, \"trees/lizards_birds/tree_lizards_birds_clustal_jc_upgma.nwk\", \"newick\")\n",
    "Phylo.write(tree_lizards_birds_muscle_jc_upgma, \"trees/lizards_birds/tree_lizards_birds_muscle_jc_upgma.nwk\", \"newick\")\n",
    "\n",
    "Phylo.write(tree_lizards_birds_clustal_id_upgma, \"trees/lizards_birds/tree_lizards_birds_clustal_id_upgma.nwk\", \"newick\")\n",
    "Phylo.write(tree_lizards_birds_muscle_id_upgma, \"trees/lizards_birds/tree_lizards_birds_muscle_id_upgma.nwk\", \"newick\")\n",
    "\n",
    "\n",
    "Phylo.write(tree_lizards_birds_clustal_kimura_nj, \"trees/lizards_birds/tree_lizards_birds_clustal_kimura_nj.nwk\", \"newick\")\n",
    "Phylo.write(tree_lizards_birds_muscle_kimura_nj, \"trees/lizards_birds/tree_lizards_birds_muscle_kimura_nj.nwk\", \"newick\")\n",
    "\n",
    "Phylo.write(tree_lizards_birds_clustal_jc_nj, \"trees/lizards_birds/tree_lizards_birds_clustal_jc_nj.nwk\", \"newick\")\n",
    "Phylo.write(tree_lizards_birds_muscle_jc_nj, \"trees/lizards_birds/tree_lizards_birds_muscle_jc_nj.nwk\", \"newick\")\n",
    "\n",
    "Phylo.write(tree_lizards_birds_clustal_id_nj, \"trees/lizards_birds/tree_lizards_birds_clustal_id_nj.nwk\", \"newick\")\n",
    "Phylo.write(tree_lizards_birds_muscle_id_nj, \"trees/lizards_birds/tree_lizards_birds_muscle_id_nj.nwk\", \"newick\")"
   ]
  },
  {
   "cell_type": "markdown",
   "id": "5743f5f6",
   "metadata": {},
   "source": [
    "### Comparing the trees"
   ]
  },
  {
   "cell_type": "markdown",
   "id": "5a182766",
   "metadata": {},
   "source": [
    "#### Robinson-Foulds distance"
   ]
  },
  {
   "cell_type": "code",
   "execution_count": 54,
   "id": "bc14395e",
   "metadata": {},
   "outputs": [],
   "source": [
    "#Libraries\n",
    "from dendropy import Tree, TaxonNamespace\n",
    "from dendropy.calculate import treecompare\n",
    "\n",
    "# Making a TaxonNamespace sharing\n",
    "taxa = TaxonNamespace()"
   ]
  },
  {
   "cell_type": "code",
   "execution_count": 56,
   "id": "aa991fef",
   "metadata": {},
   "outputs": [],
   "source": [
    "#Reading both trees with the same TaxonNamespace\n",
    "\n",
    "#ALL\n",
    "T_tree_all_clustal_kimura_upgma = Tree.get(path=\"trees/all/tree_all_clustal_kimura_upgma.nwk\", schema=\"newick\", taxon_namespace=taxa)\n",
    "T_tree_all_muscle_kimura_upgma = Tree.get(path=\"trees/all/tree_all_muscle_kimura_upgma.nwk\", schema=\"newick\", taxon_namespace=taxa)\n",
    "\n",
    "T_tree_all_clustal_jc_upgma = Tree.get(path=\"trees/all/tree_all_clustal_jc_upgma.nwk\", schema=\"newick\", taxon_namespace=taxa)\n",
    "T_tree_all_muscle_jc_upgma = Tree.get(path=\"trees/all/tree_all_muscle_jc_upgma.nwk\", schema=\"newick\", taxon_namespace=taxa)\n",
    "\n",
    "T_tree_all_clustal_id_upgma = Tree.get(path=\"trees/all/tree_all_clustal_id_upgma.nwk\", schema=\"newick\", taxon_namespace=taxa)\n",
    "T_tree_all_muscle_id_upgma = Tree.get(path=\"trees/all/tree_all_muscle_id_upgma.nwk\", schema=\"newick\", taxon_namespace=taxa)\n",
    "\n",
    "\n",
    "T_tree_all_clustal_kimura_nj = Tree.get(path=\"trees/all/tree_all_clustal_kimura_nj.nwk\", schema=\"newick\", taxon_namespace=taxa)\n",
    "T_tree_all_muscle_kimura_nj = Tree.get(path=\"trees/all/tree_all_muscle_kimura_nj.nwk\", schema=\"newick\", taxon_namespace=taxa)\n",
    "\n",
    "T_tree_all_clustal_jc_nj = Tree.get(path=\"trees/all/tree_all_clustal_jc_nj.nwk\", schema=\"newick\", taxon_namespace=taxa)\n",
    "T_tree_all_clustal_jc_nj = Tree.get(path=\"trees/all/tree_all_clustal_jc_nj.nwk\", schema=\"newick\", taxon_namespace=taxa)\n",
    "\n",
    "T_tree_all_clustal_id_nj = Tree.get(path=\"trees/all/tree_all_clustal_id_nj.nwk\", schema=\"newick\", taxon_namespace=taxa)\n",
    "T_tree_all_clustal_id_nj = Tree.get(path=\"trees/all/tree_all_clustal_id_nj.nwk\", schema=\"newick\", taxon_namespace=taxa)\n",
    "\n",
    "#TURTLES-COCODRILES\n",
    "T_tree_turtles_cocodriles_clustal_kimura_upgma = Tree.get(path=\"trees/turtles_crocodiles/tree_turtles_cocodriles_clustal_kimura_upgma.nwk\", schema=\"newick\", taxon_namespace=taxa)\n",
    "T_tree_turtles_cocodriles_muscle_kimura_upgma = Tree.get(path=\"trees/turtles_crocodiles/tree_turtles_cocodriles_muscle_kimura_upgma.nwk\", schema=\"newick\", taxon_namespace=taxa)\n",
    "\n",
    "T_tree_turtles_cocodriles_clustal_jc_upgma = Tree.get(path=\"trees/turtles_crocodiles/tree_turtles_cocodriles_clustal_jc_upgma.nwk\", schema=\"newick\", taxon_namespace=taxa)\n",
    "T_tree_turtles_cocodriles_muscle_jc_upgma = Tree.get(path=\"trees/turtles_crocodiles/tree_turtles_cocodriles_muscle_jc_upgma.nwk\", schema=\"newick\", taxon_namespace=taxa)\n",
    "\n",
    "T_tree_turtles_cocodriles_clustal_id_upgma = Tree.get(path=\"trees/turtles_crocodiles/tree_turtles_cocodriles_clustal_id_upgma.nwk\", schema=\"newick\", taxon_namespace=taxa)\n",
    "T_tree_turtles_cocodriles_muscle_id_upgma = Tree.get(path=\"trees/turtles_crocodiles/tree_turtles_cocodriles_muscle_id_upgma.nwk\", schema=\"newick\", taxon_namespace=taxa)\n",
    "\n",
    "\n",
    "T_tree_turtles_cocodriles_clustal_kimura_nj = Tree.get(path=\"trees/turtles_crocodiles/tree_turtles_cocodriles_clustal_kimura_nj.nwk\", schema=\"newick\", taxon_namespace=taxa)\n",
    "T_tree_turtles_cocodriles_muscle_kimura_nj = Tree.get(path=\"trees/turtles_crocodiles/tree_turtles_cocodriles_muscle_kimura_nj.nwk\", schema=\"newick\", taxon_namespace=taxa)\n",
    "\n",
    "T_tree_turtles_cocodriles_clustal_jc_nj = Tree.get(path=\"trees/turtles_crocodiles/tree_turtles_cocodriles_clustal_jc_nj.nwk\", schema=\"newick\", taxon_namespace=taxa)\n",
    "T_tree_turtles_cocodriles_muscle_jc_nj = Tree.get(path=\"trees/turtles_crocodiles/tree_turtles_cocodriles_muscle_jc_nj.nwk\", schema=\"newick\", taxon_namespace=taxa)\n",
    "\n",
    "T_tree_turtles_cocodriles_clustal_id_nj = Tree.get(path=\"trees/turtles_crocodiles/tree_turtles_cocodriles_clustal_id_nj.nwk\", schema=\"newick\", taxon_namespace=taxa)\n",
    "T_tree_turtles_cocodriles_muscle_id_nj = Tree.get(path=\"trees/turtles_crocodiles/tree_turtles_cocodriles_muscle_id_nj.nwk\", schema=\"newick\", taxon_namespace=taxa)\n",
    "\n",
    "#LIZARDS-BIRDS\n",
    "T_tree_lizards_birds_clustal_kimura_upgma = Tree.get(path=\"trees/lizards_birds/tree_lizards_birds_clustal_kimura_upgma.nwk\", schema=\"newick\", taxon_namespace=taxa)\n",
    "T_tree_lizards_birds_muscle_kimura_upgma = Tree.get(path=\"trees/lizards_birds/tree_lizards_birds_muscle_kimura_upgma.nwk\", schema=\"newick\", taxon_namespace=taxa)\n",
    "\n",
    "T_tree_lizards_birds_clustal_jc_upgma = Tree.get(path=\"trees/lizards_birds/tree_lizards_birds_clustal_jc_upgma.nwk\", schema=\"newick\", taxon_namespace=taxa)\n",
    "T_tree_lizards_birds_muscle_jc_upgma = Tree.get(path=\"trees/lizards_birds/tree_lizards_birds_muscle_jc_upgma.nwk\", schema=\"newick\", taxon_namespace=taxa)\n",
    "\n",
    "T_tree_lizards_birds_clustal_id_upgma = Tree.get(path=\"trees/lizards_birds/tree_lizards_birds_clustal_id_upgma.nwk\", schema=\"newick\", taxon_namespace=taxa)\n",
    "T_tree_lizards_birds_muscle_id_upgma = Tree.get(path=\"trees/lizards_birds/tree_lizards_birds_muscle_id_upgma.nwk\", schema=\"newick\", taxon_namespace=taxa)\n",
    "\n",
    "\n",
    "T_tree_lizards_birds_clustal_kimura_nj = Tree.get(path=\"trees/lizards_birds/tree_lizards_birds_clustal_kimura_nj.nwk\", schema=\"newick\", taxon_namespace=taxa)\n",
    "T_tree_lizards_birds_muscle_kimura_nj = Tree.get(path=\"trees/lizards_birds/tree_lizards_birds_muscle_kimura_nj.nwk\", schema=\"newick\", taxon_namespace=taxa)\n",
    "\n",
    "T_tree_lizards_birds_clustal_jc_nj = Tree.get(path=\"trees/lizards_birds/tree_lizards_birds_clustal_jc_nj.nwk\", schema=\"newick\", taxon_namespace=taxa)\n",
    "T_tree_lizards_birds_muscle_jc_nj = Tree.get(path=\"trees/lizards_birds/tree_lizards_birds_muscle_jc_nj.nwk\", schema=\"newick\", taxon_namespace=taxa)\n",
    "\n",
    "T_tree_lizards_birds_clustal_id_nj = Tree.get(path=\"trees/lizards_birds/tree_lizards_birds_clustal_id_nj.nwk\", schema=\"newick\", taxon_namespace=taxa)\n",
    "T_tree_lizards_birds_muscle_id_nj = Tree.get(path=\"trees/lizards_birds/tree_lizards_birds_muscle_id_nj.nwk\", schema=\"newick\", taxon_namespace=taxa)\n"
   ]
  },
  {
   "cell_type": "code",
   "execution_count": 57,
   "id": "bdf23013",
   "metadata": {},
   "outputs": [
    {
     "name": "stdout",
     "output_type": "stream",
     "text": [
      "Distancia de Robinson-Foulds: 16\n"
     ]
    }
   ],
   "source": [
    "#Now you can compare them\n",
    "from dendropy.calculate import treecompare\n",
    "rf = treecompare.symmetric_difference(T_tree_all_clustal_kimura_upgma, T_tree_all_clustal_kimura_nj)\n",
    "print(f\"Distancia de Robinson-Foulds: {rf}\")\n"
   ]
  },
  {
   "cell_type": "code",
   "execution_count": 58,
   "id": "a4eee7b7",
   "metadata": {},
   "outputs": [
    {
     "data": {
      "image/png": "[encoded data removed]",
      "text/plain": [
       "<Figure size 640x480 with 1 Axes>"
      ]
     },
     "metadata": {},
     "output_type": "display_data"
    }
   ],
   "source": [
    "Phylo.draw(tree_all_clustal_kimura_upgma)"
   ]
  },
  {
   "cell_type": "code",
   "execution_count": 59,
   "id": "78432106",
   "metadata": {},
   "outputs": [
    {
     "data": {
      "image/png": "[encoded data removed]",
      "text/plain": [
       "<Figure size 640x480 with 1 Axes>"
      ]
     },
     "metadata": {},
     "output_type": "display_data"
    }
   ],
   "source": [
    "Phylo.draw(tree_all_clustal_kimura_nj)"
   ]
  },
  {
   "cell_type": "markdown",
   "id": "ef3b7969",
   "metadata": {},
   "source": [
    "### Quartet distance"
   ]
  },
  {
   "cell_type": "code",
   "execution_count": 60,
   "id": "6c26855d",
   "metadata": {},
   "outputs": [
    {
     "name": "stdout",
     "output_type": "stream",
     "text": [
      "Collecting tqdist\n",
      "  Using cached tqdist-1.0.tar.gz (28 kB)\n",
      "  Preparing metadata (setup.py) ... \u001b[?25ldone\n",
      "\u001b[?25hBuilding wheels for collected packages: tqdist\n",
      "\u001b[33m  DEPRECATION: Building 'tqdist' using the legacy setup.py bdist_wheel mechanism, which will be removed in a future version. pip 25.3 will enforce this behaviour change. A possible replacement is to use the standardized build interface by setting the `--use-pep517` option, (possibly combined with `--no-build-isolation`), or adding a `pyproject.toml` file to the source tree of 'tqdist'. Discussion can be found at https://github.com/pypa/pip/issues/6334\u001b[0m\u001b[33m\n",
      "\u001b[0m  Building wheel for tqdist (setup.py) ... \u001b[?25ldone\n",
      "\u001b[?25h  Created wheel for tqdist: filename=tqdist-1.0-cp311-cp311-macosx_15_0_arm64.whl size=44798 sha256=12b3cb4197958e6d3cafb5366df90ef7995811af259aeadd90a89f8fd82b6b19\n",
      "  Stored in directory: /Users/analaura/Library/Caches/pip/wheels/bd/a8/b9/29f4380bba2acbadd6379728ecc4f7dfba080677bf0525573a\n",
      "Successfully built tqdist\n",
      "Installing collected packages: tqdist\n",
      "Successfully installed tqdist-1.0\n"
     ]
    }
   ],
   "source": [
    "!pip install tqdist"
   ]
  },
  {
   "cell_type": "code",
   "execution_count": 62,
   "id": "8c72c60d",
   "metadata": {},
   "outputs": [
    {
     "name": "stdout",
     "output_type": "stream",
     "text": [
      "Quartet Distance: 0.2653846153846154\n"
     ]
    }
   ],
   "source": [
    "import tqdist\n",
    "\n",
    "# Readisng the trees\n",
    "with open(\"trees/all/tree_all_clustal_kimura_upgma.nwk\") as f:\n",
    "    tree1 = f.read().strip()\n",
    "\n",
    "with open(\"trees/all/tree_all_clustal_kimura_nj.nwk\") as f:\n",
    "    tree2 = f.read().strip()\n",
    "\n",
    "# Calculating the distance of Quartet distance\n",
    "\n",
    "q_dist = tqdist.quartet_distance(tree1, tree2)\n",
    "\n",
    "print(f\"Quartet Distance: {q_dist}\")\n",
    "\n"
   ]
  },
  {
   "cell_type": "markdown",
   "id": "adbaa7ca",
   "metadata": {},
   "source": [
    "### Least-squares distance"
   ]
  },
  {
   "cell_type": "code",
   "execution_count": 63,
   "id": "6775ce7a",
   "metadata": {},
   "outputs": [
    {
     "name": "stdout",
     "output_type": "stream",
     "text": [
      "Requirement already satisfied: scipy in /Users/analaura/.pyenv/versions/3.11.9/envs/aphylogeo-env/lib/python3.11/site-packages (1.15.3)\n",
      "Requirement already satisfied: numpy<2.5,>=1.23.5 in /Users/analaura/.pyenv/versions/3.11.9/envs/aphylogeo-env/lib/python3.11/site-packages (from scipy) (1.26.1)\n"
     ]
    }
   ],
   "source": [
    "!pip install scipy"
   ]
  },
  {
   "cell_type": "code",
   "execution_count": 64,
   "id": "bc90ae40",
   "metadata": {},
   "outputs": [
    {
     "name": "stdout",
     "output_type": "stream",
     "text": [
      "Least Squares Distance (suma de errores cuadrados): 1.4645\n"
     ]
    }
   ],
   "source": [
    "from scipy.spatial.distance import euclidean\n",
    "\n",
    "# Obtener distancias patristicas\n",
    "dm1 = T_tree_all_clustal_kimura_upgma.phylogenetic_distance_matrix()\n",
    "dm2 = T_tree_all_clustal_kimura_nj.phylogenetic_distance_matrix()\n",
    "\n",
    "# Comparar distancias entre todos los pares\n",
    "ls_total = 0.0\n",
    "n = len(taxa)\n",
    "\n",
    "for i in range(n):\n",
    "    for j in range(i):\n",
    "        p1 = dm1.distance(T_tree_all_clustal_kimura_upgma.taxon_namespace[i], T_tree_all_clustal_kimura_upgma.taxon_namespace[j])\n",
    "        p2 = dm2.distance(T_tree_all_clustal_kimura_nj.taxon_namespace[i], T_tree_all_clustal_kimura_nj.taxon_namespace[j])\n",
    "        ls_total += (p1 - p2) ** 2\n",
    "\n",
    "print(f\"Least Squares Distance (suma de errores cuadrados): {ls_total:.4f}\")"
   ]
  },
  {
   "cell_type": "code",
   "execution_count": 65,
   "id": "42fc5b7d",
   "metadata": {},
   "outputs": [
    {
     "name": "stdout",
     "output_type": "stream",
     "text": [
      "Tree(rooted=True)\n",
      "    Clade(branch_length=0, name='Inner15')\n",
      "        Clade(branch_length=0.2997415326342767, name='LKomodo')\n",
      "        Clade(branch_length=0.05717775043581558, name='Inner14')\n",
      "            Clade(branch_length=0.24256378219846114, name='LBearded')\n",
      "            Clade(branch_length=0.07481133439941096, name='Inner13')\n",
      "                Clade(branch_length=0.1521688011018585, name='Inner5')\n",
      "                    Clade(branch_length=0.09055804991575003, name='Inner2')\n",
      "                        Clade(branch_length=0.0, name='CTiny')\n",
      "                        Clade(branch_length=0.0, name='CMisissipi')\n",
      "                    Clade(branch_length=0.02863048683059298, name='Inner4')\n",
      "                        Clade(branch_length=0.06192756308515705, name='Inner1')\n",
      "                            Clade(branch_length=0.0, name='BPigeon')\n",
      "                            Clade(branch_length=0.0, name='CAfrican')\n",
      "                        Clade(branch_length=0.06192756308515705, name='CNile')\n",
      "                Clade(branch_length=0.04634391638796537, name='Inner12')\n",
      "                    Clade(branch_length=0.16775244779905019, name='LAnolis')\n",
      "                    Clade(branch_length=0.02184616118821181, name='Inner11')\n",
      "                        Clade(branch_length=0.04791322396037481, name='Inner9')\n",
      "                            Clade(branch_length=0.001762364998472904, name='Inner8')\n",
      "                                Clade(branch_length=0.10641068835655149, name='BOstrich')\n",
      "                                Clade(branch_length=0.10641068835655149, name='BZebra')\n",
      "                            Clade(branch_length=0.10817305335502439, name='BRooster')\n",
      "                        Clade(branch_length=0.010179990704560826, name='Inner10')\n",
      "                            Clade(branch_length=0.14590628661083838, name='LOccidental')\n",
      "                            Clade(branch_length=0.051754862491947926, name='Inner7')\n",
      "                                Clade(branch_length=0.09415142411889045, name='TGreek')\n",
      "                                Clade(branch_length=0.0014403989649513366, name='Inner6')\n",
      "                                    Clade(branch_length=0.09271102515393911, name='Tsmall')\n",
      "                                    Clade(branch_length=0.03222593355977922, name='Inner3')\n",
      "                                        Clade(branch_length=0.06048509159415989, name='TDummy')\n",
      "                                        Clade(branch_length=0.06048509159415989, name='TGreen')\n"
     ]
    }
   ],
   "source": [
    "print(tree_all_clustal_kimura_upgma)"
   ]
  },
  {
   "cell_type": "code",
   "execution_count": null,
   "id": "2de60b3d",
   "metadata": {},
   "outputs": [
    {
     "name": "stdout",
     "output_type": "stream",
     "text": [
      "Tree(rooted=False)\n",
      "    Clade(branch_length=0, name='Inner14')\n",
      "        Clade(branch_length=0.00510294574758538, name='Inner13')\n",
      "            Clade(branch_length=0.021856319323474455, name='Inner10')\n",
      "                Clade(branch_length=0.01831586395033097, name='Inner9')\n",
      "                    Clade(branch_length=0.03486682280782896, name='Inner6')\n",
      "                        Clade(branch_length=0.10083705239051836, name='BZebra')\n",
      "                        Clade(branch_length=0.007625863167148597, name='Inner5')\n",
      "                            Clade(branch_length=0.11240199623571642, name='BOstrich')\n",
      "                            Clade(branch_length=0.10189188327321688, name='BRooster')\n",
      "                    Clade(branch_length=0.0118323737289453, name='Inner8')\n",
      "                        Clade(branch_length=0.119979765250326, name='Inner4')\n",
      "                            Clade(branch_length=0.04042124965072161, name='Inner2')\n",
      "                                Clade(branch_length=-0.06252387754067962, name='BPigeon')\n",
      "                                Clade(branch_length=0.06252387754067962, name='CAfrican')\n",
      "                            Clade(branch_length=0.028846859416998355, name='Inner3')\n",
      "                                Clade(branch_length=0.12233409959680405, name='Inner1')\n",
      "                                    Clade(branch_length=0.017710338717111335, name='CTiny')\n",
      "                                    Clade(branch_length=-0.017710338717111335, name='CMisissipi')\n",
      "                                Clade(branch_length=0.05144145425213312, name='CNile')\n",
      "                        Clade(branch_length=0.2759654243205699, name='LBearded')\n",
      "                Clade(branch_length=0.03301056210123826, name='Inner7')\n",
      "                    Clade(branch_length=0.18508612582363448, name='LAnolis')\n",
      "                    Clade(branch_length=0.12634910068958322, name='LOccidental')\n",
      "            Clade(branch_length=0.011048344383071382, name='Inner12')\n",
      "                Clade(branch_length=0.06571992737421868, name='TGreen')\n",
      "                Clade(branch_length=0.055250255814101104, name='TDummy')\n",
      "        Clade(branch_length=0.014844474469432406, name='Inner11')\n",
      "            Clade(branch_length=0.09351928073697141, name='TGreek')\n",
      "            Clade(branch_length=0.09698285835049741, name='Tsmall')\n",
      "        Clade(branch_length=0.264389825150913, name='LKomodo')\n"
     ]
    }
   ],
   "source": [
    "print(tree_all_clustal_kimura_nj)"
   ]
  }
 ],
 "metadata": {
  "kernelspec": {
   "display_name": "aphylogeo-env",
   "language": "python",
   "name": "python3"
  },
  "language_info": {
   "codemirror_mode": {
    "name": "ipython",
    "version": 3
   },
   "file_extension": ".py",
   "mimetype": "text/x-python",
   "name": "python",
   "nbconvert_exporter": "python",
   "pygments_lexer": "ipython3",
   "version": "3.11.9"
  }
 },
 "nbformat": 4,
 "nbformat_minor": 5
}
